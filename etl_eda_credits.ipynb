{
 "cells": [
  {
   "cell_type": "code",
   "execution_count": 2,
   "metadata": {},
   "outputs": [],
   "source": [
    "import ast\n",
    "import pandas as pd\n",
    "import warnings\n",
    "warnings.filterwarnings(\"ignore\")"
   ]
  },
  {
   "cell_type": "markdown",
   "metadata": {},
   "source": [
    "### Funciones para ETL de credits.csv"
   ]
  },
  {
   "cell_type": "code",
   "execution_count": 3,
   "metadata": {},
   "outputs": [],
   "source": [
    "credits_path = r'C:\\Users\\felip\\Desktop\\Stuff\\Cursos\\SoyHenry\\Clases\\LABS\\PI ML Ops\\pi_mlops_felipeviera\\venv\\Datasets\\credits.csv'"
   ]
  },
  {
   "cell_type": "code",
   "execution_count": 4,
   "metadata": {},
   "outputs": [],
   "source": [
    "def extraer_actores_directores(path_csv):\n",
    "    # Se lee el archivo csv en chunks (pedazos) para manejar el gran volumen de datos\n",
    "    chunk_size = 100000 # Ajustar según necesidades\n",
    "    actors_data = []\n",
    "    directors_data = []\n",
    "\n",
    "    for chunk in pd.read_csv(path_csv, chunksize=chunk_size): # Itera sobre cada chunk del archivo csv\n",
    "        for _, row in chunk.iterrows(): # Convierte cada chunk en un iterable para iterar por cada fila\n",
    "            movie_id = row['id'] # Extrae el id de la película\n",
    "\n",
    "            try: \n",
    "                # De forma segura extrae las string correspondientes al cast y al crew. \n",
    "                # Si alguno de estos campos es NaN devuelve una lista vacía\n",
    "                # ast.literal_eval() evalua strings que contengan python literals (Ej: una lista de diccionarios)\n",
    "                cast_list = ast.literal_eval(row['cast']) if pd.notna(row['cast']) else []\n",
    "                crew_list = ast.literal_eval(row['crew']) if pd.notna(row['crew']) else []\n",
    "            \n",
    "            # Si ast.literal_eval() se encuentra con sintaxis no válida, \n",
    "            # el bloque except permitirá que el proceso no crashee y se pase a la siguiente fila\n",
    "            except (ValueError, SyntaxError):\n",
    "                continue \n",
    "\n",
    "            # Extrae actores desds cast_list\n",
    "            for person in cast_list:\n",
    "                if 'cast_id' in person: # Chequea si la persona es un actor\n",
    "                    actors_data.append({'movie_id': movie_id, \n",
    "                                         'actor_name' : person.get('name', '') # Si \"name\" no se encuentra devolverá un string vacío\n",
    "                                         })\n",
    "                    \n",
    "            # Extrae directores desde crew_list\n",
    "            for person in crew_list:\n",
    "                if person.get('job', '').lower() == 'director': # Se asegura que la string \"Director\" mantenga un formato uniforme\n",
    "                    directors_data.append({\n",
    "                        'movie_id' : movie_id,\n",
    "                        'director_name' : person.get('name', '')\n",
    "                    })\n",
    "\n",
    "    actors_df = pd.DataFrame(actors_data)\n",
    "    directors_df = pd.DataFrame(directors_data)\n",
    "\n",
    "    return actors_df, directors_df"
   ]
  },
  {
   "cell_type": "code",
   "execution_count": 5,
   "metadata": {},
   "outputs": [],
   "source": [
    "actors_df, directors_df = extraer_actores_directores(credits_path)"
   ]
  },
  {
   "cell_type": "markdown",
   "metadata": {},
   "source": [
    "### EDA"
   ]
  },
  {
   "cell_type": "code",
   "execution_count": 14,
   "metadata": {},
   "outputs": [
    {
     "data": {
      "text/html": [
       "<div>\n",
       "<style scoped>\n",
       "    .dataframe tbody tr th:only-of-type {\n",
       "        vertical-align: middle;\n",
       "    }\n",
       "\n",
       "    .dataframe tbody tr th {\n",
       "        vertical-align: top;\n",
       "    }\n",
       "\n",
       "    .dataframe thead th {\n",
       "        text-align: right;\n",
       "    }\n",
       "</style>\n",
       "<table border=\"1\" class=\"dataframe\">\n",
       "  <thead>\n",
       "    <tr style=\"text-align: right;\">\n",
       "      <th></th>\n",
       "      <th>movie_id</th>\n",
       "      <th>actor_name</th>\n",
       "    </tr>\n",
       "  </thead>\n",
       "  <tbody>\n",
       "    <tr>\n",
       "      <th>0</th>\n",
       "      <td>862</td>\n",
       "      <td>Tom Hanks</td>\n",
       "    </tr>\n",
       "    <tr>\n",
       "      <th>1</th>\n",
       "      <td>862</td>\n",
       "      <td>Tim Allen</td>\n",
       "    </tr>\n",
       "    <tr>\n",
       "      <th>2</th>\n",
       "      <td>862</td>\n",
       "      <td>Don Rickles</td>\n",
       "    </tr>\n",
       "    <tr>\n",
       "      <th>3</th>\n",
       "      <td>862</td>\n",
       "      <td>Jim Varney</td>\n",
       "    </tr>\n",
       "    <tr>\n",
       "      <th>4</th>\n",
       "      <td>862</td>\n",
       "      <td>Wallace Shawn</td>\n",
       "    </tr>\n",
       "  </tbody>\n",
       "</table>\n",
       "</div>"
      ],
      "text/plain": [
       "   movie_id     actor_name\n",
       "0       862      Tom Hanks\n",
       "1       862      Tim Allen\n",
       "2       862    Don Rickles\n",
       "3       862     Jim Varney\n",
       "4       862  Wallace Shawn"
      ]
     },
     "execution_count": 14,
     "metadata": {},
     "output_type": "execute_result"
    }
   ],
   "source": [
    "actors_df.head()"
   ]
  },
  {
   "cell_type": "code",
   "execution_count": 13,
   "metadata": {},
   "outputs": [
    {
     "data": {
      "text/html": [
       "<div>\n",
       "<style scoped>\n",
       "    .dataframe tbody tr th:only-of-type {\n",
       "        vertical-align: middle;\n",
       "    }\n",
       "\n",
       "    .dataframe tbody tr th {\n",
       "        vertical-align: top;\n",
       "    }\n",
       "\n",
       "    .dataframe thead th {\n",
       "        text-align: right;\n",
       "    }\n",
       "</style>\n",
       "<table border=\"1\" class=\"dataframe\">\n",
       "  <thead>\n",
       "    <tr style=\"text-align: right;\">\n",
       "      <th></th>\n",
       "      <th>movie_id</th>\n",
       "      <th>director_name</th>\n",
       "    </tr>\n",
       "  </thead>\n",
       "  <tbody>\n",
       "    <tr>\n",
       "      <th>0</th>\n",
       "      <td>862</td>\n",
       "      <td>John Lasseter</td>\n",
       "    </tr>\n",
       "    <tr>\n",
       "      <th>1</th>\n",
       "      <td>8844</td>\n",
       "      <td>Joe Johnston</td>\n",
       "    </tr>\n",
       "    <tr>\n",
       "      <th>2</th>\n",
       "      <td>15602</td>\n",
       "      <td>Howard Deutch</td>\n",
       "    </tr>\n",
       "    <tr>\n",
       "      <th>3</th>\n",
       "      <td>31357</td>\n",
       "      <td>Forest Whitaker</td>\n",
       "    </tr>\n",
       "    <tr>\n",
       "      <th>4</th>\n",
       "      <td>11862</td>\n",
       "      <td>Charles Shyer</td>\n",
       "    </tr>\n",
       "  </tbody>\n",
       "</table>\n",
       "</div>"
      ],
      "text/plain": [
       "   movie_id    director_name\n",
       "0       862    John Lasseter\n",
       "1      8844     Joe Johnston\n",
       "2     15602    Howard Deutch\n",
       "3     31357  Forest Whitaker\n",
       "4     11862    Charles Shyer"
      ]
     },
     "execution_count": 13,
     "metadata": {},
     "output_type": "execute_result"
    }
   ],
   "source": [
    "directors_df.head()"
   ]
  },
  {
   "cell_type": "code",
   "execution_count": 8,
   "metadata": {},
   "outputs": [
    {
     "name": "stdout",
     "output_type": "stream",
     "text": [
      "<class 'pandas.core.frame.DataFrame'>\n",
      "RangeIndex: 562474 entries, 0 to 562473\n",
      "Data columns (total 2 columns):\n",
      " #   Column      Non-Null Count   Dtype \n",
      "---  ------      --------------   ----- \n",
      " 0   movie_id    562474 non-null  int64 \n",
      " 1   actor_name  562474 non-null  object\n",
      "dtypes: int64(1), object(1)\n",
      "memory usage: 8.6+ MB\n"
     ]
    }
   ],
   "source": [
    "actors_df.info()"
   ]
  },
  {
   "cell_type": "code",
   "execution_count": 9,
   "metadata": {},
   "outputs": [
    {
     "name": "stdout",
     "output_type": "stream",
     "text": [
      "<class 'pandas.core.frame.DataFrame'>\n",
      "RangeIndex: 49048 entries, 0 to 49047\n",
      "Data columns (total 2 columns):\n",
      " #   Column         Non-Null Count  Dtype \n",
      "---  ------         --------------  ----- \n",
      " 0   movie_id       49048 non-null  int64 \n",
      " 1   director_name  49048 non-null  object\n",
      "dtypes: int64(1), object(1)\n",
      "memory usage: 766.5+ KB\n"
     ]
    }
   ],
   "source": [
    "directors_df.info()"
   ]
  },
  {
   "cell_type": "code",
   "execution_count": 10,
   "metadata": {},
   "outputs": [
    {
     "name": "stdout",
     "output_type": "stream",
     "text": [
      "movie_id      0\n",
      "actor_name    0\n",
      "dtype: int64\n",
      "movie_id         0\n",
      "director_name    0\n",
      "dtype: int64\n"
     ]
    }
   ],
   "source": [
    "print(actors_df.isna().sum())\n",
    "print(directors_df.isna().sum())"
   ]
  },
  {
   "cell_type": "code",
   "execution_count": 11,
   "metadata": {},
   "outputs": [
    {
     "data": {
      "text/html": [
       "<div>\n",
       "<style scoped>\n",
       "    .dataframe tbody tr th:only-of-type {\n",
       "        vertical-align: middle;\n",
       "    }\n",
       "\n",
       "    .dataframe tbody tr th {\n",
       "        vertical-align: top;\n",
       "    }\n",
       "\n",
       "    .dataframe thead th {\n",
       "        text-align: right;\n",
       "    }\n",
       "</style>\n",
       "<table border=\"1\" class=\"dataframe\">\n",
       "  <thead>\n",
       "    <tr style=\"text-align: right;\">\n",
       "      <th></th>\n",
       "      <th>movie_id_x</th>\n",
       "      <th>actor_name</th>\n",
       "      <th>movie_id_y</th>\n",
       "      <th>director_name</th>\n",
       "    </tr>\n",
       "  </thead>\n",
       "  <tbody>\n",
       "    <tr>\n",
       "      <th>135476</th>\n",
       "      <td>188421</td>\n",
       "      <td>Jimmy Sangster</td>\n",
       "      <td>31472</td>\n",
       "      <td>Jimmy Sangster</td>\n",
       "    </tr>\n",
       "    <tr>\n",
       "      <th>135477</th>\n",
       "      <td>75608</td>\n",
       "      <td>Robert Gardner</td>\n",
       "      <td>84001</td>\n",
       "      <td>Robert Gardner</td>\n",
       "    </tr>\n",
       "    <tr>\n",
       "      <th>135478</th>\n",
       "      <td>75608</td>\n",
       "      <td>Robert Gardner</td>\n",
       "      <td>75608</td>\n",
       "      <td>Robert Gardner</td>\n",
       "    </tr>\n",
       "    <tr>\n",
       "      <th>135479</th>\n",
       "      <td>75608</td>\n",
       "      <td>Robert Gardner</td>\n",
       "      <td>275331</td>\n",
       "      <td>Robert Gardner</td>\n",
       "    </tr>\n",
       "    <tr>\n",
       "      <th>135480</th>\n",
       "      <td>75608</td>\n",
       "      <td>Robert Gardner</td>\n",
       "      <td>257472</td>\n",
       "      <td>Robert Gardner</td>\n",
       "    </tr>\n",
       "    <tr>\n",
       "      <th>135481</th>\n",
       "      <td>75608</td>\n",
       "      <td>Robert Gardner</td>\n",
       "      <td>323132</td>\n",
       "      <td>Robert Gardner</td>\n",
       "    </tr>\n",
       "    <tr>\n",
       "      <th>135482</th>\n",
       "      <td>75608</td>\n",
       "      <td>Robert Gardner</td>\n",
       "      <td>276895</td>\n",
       "      <td>Robert Gardner</td>\n",
       "    </tr>\n",
       "    <tr>\n",
       "      <th>135483</th>\n",
       "      <td>258907</td>\n",
       "      <td>Barbara Hammer</td>\n",
       "      <td>258907</td>\n",
       "      <td>Barbara Hammer</td>\n",
       "    </tr>\n",
       "    <tr>\n",
       "      <th>135484</th>\n",
       "      <td>222848</td>\n",
       "      <td>Ben Ramsey</td>\n",
       "      <td>57351</td>\n",
       "      <td>Ben Ramsey</td>\n",
       "    </tr>\n",
       "    <tr>\n",
       "      <th>135485</th>\n",
       "      <td>222848</td>\n",
       "      <td>Ben Ramsey</td>\n",
       "      <td>22164</td>\n",
       "      <td>Ben Ramsey</td>\n",
       "    </tr>\n",
       "  </tbody>\n",
       "</table>\n",
       "</div>"
      ],
      "text/plain": [
       "        movie_id_x      actor_name  movie_id_y   director_name\n",
       "135476      188421  Jimmy Sangster       31472  Jimmy Sangster\n",
       "135477       75608  Robert Gardner       84001  Robert Gardner\n",
       "135478       75608  Robert Gardner       75608  Robert Gardner\n",
       "135479       75608  Robert Gardner      275331  Robert Gardner\n",
       "135480       75608  Robert Gardner      257472  Robert Gardner\n",
       "135481       75608  Robert Gardner      323132  Robert Gardner\n",
       "135482       75608  Robert Gardner      276895  Robert Gardner\n",
       "135483      258907  Barbara Hammer      258907  Barbara Hammer\n",
       "135484      222848      Ben Ramsey       57351      Ben Ramsey\n",
       "135485      222848      Ben Ramsey       22164      Ben Ramsey"
      ]
     },
     "execution_count": 11,
     "metadata": {},
     "output_type": "execute_result"
    }
   ],
   "source": [
    "# Actores que además han sido directores\n",
    "\n",
    "act_y_dir_df = pd.merge(\n",
    "    actors_df,\n",
    "    directors_df,\n",
    "    left_on='actor_name',\n",
    "    right_on='director_name',\n",
    "    how='inner'\n",
    ")\n",
    "act_y_dir_df.tail(10)"
   ]
  },
  {
   "cell_type": "code",
   "execution_count": 12,
   "metadata": {},
   "outputs": [],
   "source": [
    "# Exportar DataFrames a archivos csv\n",
    "\n",
    "actors_df.to_csv(r'C:\\Users\\felip\\Desktop\\Stuff\\Cursos\\SoyHenry\\Clases\\LABS\\PI ML Ops\\pi_mlops_felipeviera\\datasets\\movies_actors.csv', index=False)\n",
    "\n",
    "directors_df.to_csv(r'C:\\Users\\felip\\Desktop\\Stuff\\Cursos\\SoyHenry\\Clases\\LABS\\PI ML Ops\\pi_mlops_felipeviera\\datasets\\movies_directors.csv', index=False)"
   ]
  }
 ],
 "metadata": {
  "kernelspec": {
   "display_name": "Python 3",
   "language": "python",
   "name": "python3"
  },
  "language_info": {
   "codemirror_mode": {
    "name": "ipython",
    "version": 3
   },
   "file_extension": ".py",
   "mimetype": "text/x-python",
   "name": "python",
   "nbconvert_exporter": "python",
   "pygments_lexer": "ipython3",
   "version": "3.11.0"
  }
 },
 "nbformat": 4,
 "nbformat_minor": 2
}

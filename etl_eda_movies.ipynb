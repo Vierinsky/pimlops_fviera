{
 "cells": [
  {
   "cell_type": "code",
   "execution_count": 23,
   "metadata": {},
   "outputs": [],
   "source": [
    "import matplotlib.pyplot as plt\n",
    "import numpy as np\n",
    "import pandas as pd\n",
    "import seaborn as sns\n",
    "import warnings\n",
    "warnings.filterwarnings(\"ignore\")"
   ]
  },
  {
   "cell_type": "markdown",
   "metadata": {},
   "source": [
    "## Carga de dataset"
   ]
  },
  {
   "cell_type": "code",
   "execution_count": 24,
   "metadata": {},
   "outputs": [],
   "source": [
    "movies = pd.read_csv(r'C:\\Users\\felip\\Desktop\\Stuff\\Cursos\\SoyHenry\\Clases\\LABS\\PI ML Ops\\pi_mlops_felipeviera\\venv\\Datasets\\movies_dataset.csv')"
   ]
  },
  {
   "cell_type": "markdown",
   "metadata": {},
   "source": [
    "## EDA (inicial)"
   ]
  },
  {
   "cell_type": "markdown",
   "metadata": {},
   "source": [
    "belongs_to_collection, genres, production_companies, production_countries, spoken_languages"
   ]
  },
  {
   "cell_type": "code",
   "execution_count": 25,
   "metadata": {},
   "outputs": [
    {
     "data": {
      "text/html": [
       "<div>\n",
       "<style scoped>\n",
       "    .dataframe tbody tr th:only-of-type {\n",
       "        vertical-align: middle;\n",
       "    }\n",
       "\n",
       "    .dataframe tbody tr th {\n",
       "        vertical-align: top;\n",
       "    }\n",
       "\n",
       "    .dataframe thead th {\n",
       "        text-align: right;\n",
       "    }\n",
       "</style>\n",
       "<table border=\"1\" class=\"dataframe\">\n",
       "  <thead>\n",
       "    <tr style=\"text-align: right;\">\n",
       "      <th></th>\n",
       "      <th>adult</th>\n",
       "      <th>belongs_to_collection</th>\n",
       "      <th>budget</th>\n",
       "      <th>genres</th>\n",
       "      <th>homepage</th>\n",
       "      <th>id</th>\n",
       "      <th>imdb_id</th>\n",
       "      <th>original_language</th>\n",
       "      <th>original_title</th>\n",
       "      <th>overview</th>\n",
       "      <th>...</th>\n",
       "      <th>release_date</th>\n",
       "      <th>revenue</th>\n",
       "      <th>runtime</th>\n",
       "      <th>spoken_languages</th>\n",
       "      <th>status</th>\n",
       "      <th>tagline</th>\n",
       "      <th>title</th>\n",
       "      <th>video</th>\n",
       "      <th>vote_average</th>\n",
       "      <th>vote_count</th>\n",
       "    </tr>\n",
       "  </thead>\n",
       "  <tbody>\n",
       "    <tr>\n",
       "      <th>0</th>\n",
       "      <td>False</td>\n",
       "      <td>{'id': 10194, 'name': 'Toy Story Collection', ...</td>\n",
       "      <td>30000000</td>\n",
       "      <td>[{'id': 16, 'name': 'Animation'}, {'id': 35, '...</td>\n",
       "      <td>http://toystory.disney.com/toy-story</td>\n",
       "      <td>862</td>\n",
       "      <td>tt0114709</td>\n",
       "      <td>en</td>\n",
       "      <td>Toy Story</td>\n",
       "      <td>Led by Woody, Andy's toys live happily in his ...</td>\n",
       "      <td>...</td>\n",
       "      <td>1995-10-30</td>\n",
       "      <td>373554033.0</td>\n",
       "      <td>81.0</td>\n",
       "      <td>[{'iso_639_1': 'en', 'name': 'English'}]</td>\n",
       "      <td>Released</td>\n",
       "      <td>NaN</td>\n",
       "      <td>Toy Story</td>\n",
       "      <td>False</td>\n",
       "      <td>7.7</td>\n",
       "      <td>5415.0</td>\n",
       "    </tr>\n",
       "    <tr>\n",
       "      <th>1</th>\n",
       "      <td>False</td>\n",
       "      <td>NaN</td>\n",
       "      <td>65000000</td>\n",
       "      <td>[{'id': 12, 'name': 'Adventure'}, {'id': 14, '...</td>\n",
       "      <td>NaN</td>\n",
       "      <td>8844</td>\n",
       "      <td>tt0113497</td>\n",
       "      <td>en</td>\n",
       "      <td>Jumanji</td>\n",
       "      <td>When siblings Judy and Peter discover an encha...</td>\n",
       "      <td>...</td>\n",
       "      <td>1995-12-15</td>\n",
       "      <td>262797249.0</td>\n",
       "      <td>104.0</td>\n",
       "      <td>[{'iso_639_1': 'en', 'name': 'English'}, {'iso...</td>\n",
       "      <td>Released</td>\n",
       "      <td>Roll the dice and unleash the excitement!</td>\n",
       "      <td>Jumanji</td>\n",
       "      <td>False</td>\n",
       "      <td>6.9</td>\n",
       "      <td>2413.0</td>\n",
       "    </tr>\n",
       "    <tr>\n",
       "      <th>2</th>\n",
       "      <td>False</td>\n",
       "      <td>{'id': 119050, 'name': 'Grumpy Old Men Collect...</td>\n",
       "      <td>0</td>\n",
       "      <td>[{'id': 10749, 'name': 'Romance'}, {'id': 35, ...</td>\n",
       "      <td>NaN</td>\n",
       "      <td>15602</td>\n",
       "      <td>tt0113228</td>\n",
       "      <td>en</td>\n",
       "      <td>Grumpier Old Men</td>\n",
       "      <td>A family wedding reignites the ancient feud be...</td>\n",
       "      <td>...</td>\n",
       "      <td>1995-12-22</td>\n",
       "      <td>0.0</td>\n",
       "      <td>101.0</td>\n",
       "      <td>[{'iso_639_1': 'en', 'name': 'English'}]</td>\n",
       "      <td>Released</td>\n",
       "      <td>Still Yelling. Still Fighting. Still Ready for...</td>\n",
       "      <td>Grumpier Old Men</td>\n",
       "      <td>False</td>\n",
       "      <td>6.5</td>\n",
       "      <td>92.0</td>\n",
       "    </tr>\n",
       "  </tbody>\n",
       "</table>\n",
       "<p>3 rows × 24 columns</p>\n",
       "</div>"
      ],
      "text/plain": [
       "   adult                              belongs_to_collection    budget  \\\n",
       "0  False  {'id': 10194, 'name': 'Toy Story Collection', ...  30000000   \n",
       "1  False                                                NaN  65000000   \n",
       "2  False  {'id': 119050, 'name': 'Grumpy Old Men Collect...         0   \n",
       "\n",
       "                                              genres  \\\n",
       "0  [{'id': 16, 'name': 'Animation'}, {'id': 35, '...   \n",
       "1  [{'id': 12, 'name': 'Adventure'}, {'id': 14, '...   \n",
       "2  [{'id': 10749, 'name': 'Romance'}, {'id': 35, ...   \n",
       "\n",
       "                               homepage     id    imdb_id original_language  \\\n",
       "0  http://toystory.disney.com/toy-story    862  tt0114709                en   \n",
       "1                                   NaN   8844  tt0113497                en   \n",
       "2                                   NaN  15602  tt0113228                en   \n",
       "\n",
       "     original_title                                           overview  ...  \\\n",
       "0         Toy Story  Led by Woody, Andy's toys live happily in his ...  ...   \n",
       "1           Jumanji  When siblings Judy and Peter discover an encha...  ...   \n",
       "2  Grumpier Old Men  A family wedding reignites the ancient feud be...  ...   \n",
       "\n",
       "  release_date      revenue runtime  \\\n",
       "0   1995-10-30  373554033.0    81.0   \n",
       "1   1995-12-15  262797249.0   104.0   \n",
       "2   1995-12-22          0.0   101.0   \n",
       "\n",
       "                                    spoken_languages    status  \\\n",
       "0           [{'iso_639_1': 'en', 'name': 'English'}]  Released   \n",
       "1  [{'iso_639_1': 'en', 'name': 'English'}, {'iso...  Released   \n",
       "2           [{'iso_639_1': 'en', 'name': 'English'}]  Released   \n",
       "\n",
       "                                             tagline             title  video  \\\n",
       "0                                                NaN         Toy Story  False   \n",
       "1          Roll the dice and unleash the excitement!           Jumanji  False   \n",
       "2  Still Yelling. Still Fighting. Still Ready for...  Grumpier Old Men  False   \n",
       "\n",
       "  vote_average vote_count  \n",
       "0          7.7     5415.0  \n",
       "1          6.9     2413.0  \n",
       "2          6.5       92.0  \n",
       "\n",
       "[3 rows x 24 columns]"
      ]
     },
     "execution_count": 25,
     "metadata": {},
     "output_type": "execute_result"
    }
   ],
   "source": [
    "movies.head(3)"
   ]
  },
  {
   "cell_type": "code",
   "execution_count": 26,
   "metadata": {},
   "outputs": [
    {
     "name": "stdout",
     "output_type": "stream",
     "text": [
      "<class 'pandas.core.frame.DataFrame'>\n",
      "RangeIndex: 45466 entries, 0 to 45465\n",
      "Data columns (total 24 columns):\n",
      " #   Column                 Non-Null Count  Dtype  \n",
      "---  ------                 --------------  -----  \n",
      " 0   adult                  45466 non-null  object \n",
      " 1   belongs_to_collection  4494 non-null   object \n",
      " 2   budget                 45466 non-null  object \n",
      " 3   genres                 45466 non-null  object \n",
      " 4   homepage               7782 non-null   object \n",
      " 5   id                     45466 non-null  object \n",
      " 6   imdb_id                45449 non-null  object \n",
      " 7   original_language      45455 non-null  object \n",
      " 8   original_title         45466 non-null  object \n",
      " 9   overview               44512 non-null  object \n",
      " 10  popularity             45461 non-null  object \n",
      " 11  poster_path            45080 non-null  object \n",
      " 12  production_companies   45463 non-null  object \n",
      " 13  production_countries   45463 non-null  object \n",
      " 14  release_date           45379 non-null  object \n",
      " 15  revenue                45460 non-null  float64\n",
      " 16  runtime                45203 non-null  float64\n",
      " 17  spoken_languages       45460 non-null  object \n",
      " 18  status                 45379 non-null  object \n",
      " 19  tagline                20412 non-null  object \n",
      " 20  title                  45460 non-null  object \n",
      " 21  video                  45460 non-null  object \n",
      " 22  vote_average           45460 non-null  float64\n",
      " 23  vote_count             45460 non-null  float64\n",
      "dtypes: float64(4), object(20)\n",
      "memory usage: 8.3+ MB\n"
     ]
    }
   ],
   "source": [
    "movies.info()"
   ]
  },
  {
   "cell_type": "markdown",
   "metadata": {},
   "source": [
    "### Columnas \"budget\" y \"revenue\""
   ]
  },
  {
   "cell_type": "code",
   "execution_count": 27,
   "metadata": {},
   "outputs": [
    {
     "name": "stdout",
     "output_type": "stream",
     "text": [
      "count    4.546000e+04\n",
      "mean     1.120935e+07\n",
      "std      6.433225e+07\n",
      "min      0.000000e+00\n",
      "25%      0.000000e+00\n",
      "50%      0.000000e+00\n",
      "75%      0.000000e+00\n",
      "max      2.787965e+09\n",
      "Name: revenue, dtype: float64\n"
     ]
    }
   ],
   "source": [
    "print(movies['revenue'].describe())"
   ]
  },
  {
   "cell_type": "markdown",
   "metadata": {},
   "source": [
    "Columna bugdet no es tipo float y debe ser transformada."
   ]
  },
  {
   "cell_type": "code",
   "execution_count": 28,
   "metadata": {},
   "outputs": [
    {
     "name": "stdout",
     "output_type": "stream",
     "text": [
      "count     45466\n",
      "unique     1226\n",
      "top           0\n",
      "freq      36573\n",
      "Name: budget, dtype: object\n"
     ]
    }
   ],
   "source": [
    "print(movies['budget'].describe())"
   ]
  },
  {
   "cell_type": "markdown",
   "metadata": {},
   "source": [
    "Columna 'title' tiene títulos repetidos ya que puede haber varias peliculas distintas con el mismo título"
   ]
  },
  {
   "cell_type": "code",
   "execution_count": 29,
   "metadata": {},
   "outputs": [
    {
     "data": {
      "text/plain": [
       "title\n",
       "Cinderella               11\n",
       "Hamlet                    9\n",
       "Alice in Wonderland       9\n",
       "Beauty and the Beast      8\n",
       "Les Misérables            8\n",
       "                         ..\n",
       "The Kingdom               2\n",
       "Strayed                   2\n",
       "Mickey                    2\n",
       "Envy                      2\n",
       "A Long and Happy Life     2\n",
       "Name: count, Length: 2330, dtype: int64"
      ]
     },
     "execution_count": 29,
     "metadata": {},
     "output_type": "execute_result"
    }
   ],
   "source": [
    "movies['title'][movies['title'].duplicated(keep=False)].value_counts()"
   ]
  },
  {
   "cell_type": "markdown",
   "metadata": {},
   "source": [
    "## Transformaciones y EDA"
   ]
  },
  {
   "cell_type": "markdown",
   "metadata": {},
   "source": [
    "### Columnas con datos anidados"
   ]
  },
  {
   "cell_type": "markdown",
   "metadata": {},
   "source": [
    "* Nota: Las columnas con datos anidados belongs_to_collection, genres, production_companies, production_countries, spoken_languages servirán más adelante en el modelo, por lo que conviene desanidarlas"
   ]
  },
  {
   "cell_type": "markdown",
   "metadata": {},
   "source": [
    "Se crea función para desanidar columnas"
   ]
  },
  {
   "cell_type": "code",
   "execution_count": 30,
   "metadata": {},
   "outputs": [],
   "source": [
    "import ast\n",
    "\n",
    "def desanidar_name_lista(lista_anidado):\n",
    "    if not isinstance(lista_anidado, str): # Chequea si lista_anidado no es un string\n",
    "        return []\n",
    "    try: # Se inicia un bloque try en caso de encontrar strings con valores distintos al planeado\n",
    "        dict_anidado = ast.literal_eval(lista_anidado) # Convierte texto a lista de diccionarios\n",
    "        return [dicc['name'] for dicc in dict_anidado if 'name' in dicc] # Busca en la lista de diccionarios y extrae el campo 'name'\n",
    "    except (ValueError, SyntaxError, TypeError): # Se encarga de posibles errores\n",
    "        return []"
   ]
  },
  {
   "cell_type": "markdown",
   "metadata": {},
   "source": [
    "#### Columna belongs_to_collection"
   ]
  },
  {
   "cell_type": "code",
   "execution_count": 31,
   "metadata": {},
   "outputs": [
    {
     "data": {
      "text/plain": [
       "0    {'id': 10194, 'name': 'Toy Story Collection', ...\n",
       "1                                                  NaN\n",
       "2    {'id': 119050, 'name': 'Grumpy Old Men Collect...\n",
       "3                                                  NaN\n",
       "4    {'id': 96871, 'name': 'Father of the Bride Col...\n",
       "Name: belongs_to_collection, dtype: object"
      ]
     },
     "execution_count": 31,
     "metadata": {},
     "output_type": "execute_result"
    }
   ],
   "source": [
    "movies['belongs_to_collection'].head()"
   ]
  },
  {
   "cell_type": "code",
   "execution_count": 32,
   "metadata": {},
   "outputs": [
    {
     "data": {
      "text/plain": [
       "\"{'id': 10194, 'name': 'Toy Story Collection', 'poster_path': '/7G9915LfUQ2lVfwMEEhDsn3kT4B.jpg', 'backdrop_path': '/9FBwqcd9IRruEDUrTdcaafOMKUq.jpg'}\""
      ]
     },
     "execution_count": 32,
     "metadata": {},
     "output_type": "execute_result"
    }
   ],
   "source": [
    "movies['belongs_to_collection'].iloc[0]"
   ]
  },
  {
   "cell_type": "code",
   "execution_count": 33,
   "metadata": {},
   "outputs": [
    {
     "data": {
      "text/html": [
       "<div>\n",
       "<style scoped>\n",
       "    .dataframe tbody tr th:only-of-type {\n",
       "        vertical-align: middle;\n",
       "    }\n",
       "\n",
       "    .dataframe tbody tr th {\n",
       "        vertical-align: top;\n",
       "    }\n",
       "\n",
       "    .dataframe thead th {\n",
       "        text-align: right;\n",
       "    }\n",
       "</style>\n",
       "<table border=\"1\" class=\"dataframe\">\n",
       "  <thead>\n",
       "    <tr style=\"text-align: right;\">\n",
       "      <th></th>\n",
       "      <th>adult</th>\n",
       "      <th>belongs_to_collection</th>\n",
       "      <th>budget</th>\n",
       "      <th>genres</th>\n",
       "      <th>homepage</th>\n",
       "      <th>id</th>\n",
       "      <th>imdb_id</th>\n",
       "      <th>original_language</th>\n",
       "      <th>original_title</th>\n",
       "      <th>overview</th>\n",
       "      <th>...</th>\n",
       "      <th>release_date</th>\n",
       "      <th>revenue</th>\n",
       "      <th>runtime</th>\n",
       "      <th>spoken_languages</th>\n",
       "      <th>status</th>\n",
       "      <th>tagline</th>\n",
       "      <th>title</th>\n",
       "      <th>video</th>\n",
       "      <th>vote_average</th>\n",
       "      <th>vote_count</th>\n",
       "    </tr>\n",
       "  </thead>\n",
       "  <tbody>\n",
       "    <tr>\n",
       "      <th>1</th>\n",
       "      <td>False</td>\n",
       "      <td>NaN</td>\n",
       "      <td>65000000</td>\n",
       "      <td>[{'id': 12, 'name': 'Adventure'}, {'id': 14, '...</td>\n",
       "      <td>NaN</td>\n",
       "      <td>8844</td>\n",
       "      <td>tt0113497</td>\n",
       "      <td>en</td>\n",
       "      <td>Jumanji</td>\n",
       "      <td>When siblings Judy and Peter discover an encha...</td>\n",
       "      <td>...</td>\n",
       "      <td>1995-12-15</td>\n",
       "      <td>262797249.0</td>\n",
       "      <td>104.0</td>\n",
       "      <td>[{'iso_639_1': 'en', 'name': 'English'}, {'iso...</td>\n",
       "      <td>Released</td>\n",
       "      <td>Roll the dice and unleash the excitement!</td>\n",
       "      <td>Jumanji</td>\n",
       "      <td>False</td>\n",
       "      <td>6.9</td>\n",
       "      <td>2413.0</td>\n",
       "    </tr>\n",
       "  </tbody>\n",
       "</table>\n",
       "<p>1 rows × 24 columns</p>\n",
       "</div>"
      ],
      "text/plain": [
       "   adult belongs_to_collection    budget  \\\n",
       "1  False                   NaN  65000000   \n",
       "\n",
       "                                              genres homepage    id  \\\n",
       "1  [{'id': 12, 'name': 'Adventure'}, {'id': 14, '...      NaN  8844   \n",
       "\n",
       "     imdb_id original_language original_title  \\\n",
       "1  tt0113497                en        Jumanji   \n",
       "\n",
       "                                            overview  ... release_date  \\\n",
       "1  When siblings Judy and Peter discover an encha...  ...   1995-12-15   \n",
       "\n",
       "       revenue runtime                                   spoken_languages  \\\n",
       "1  262797249.0   104.0  [{'iso_639_1': 'en', 'name': 'English'}, {'iso...   \n",
       "\n",
       "     status                                    tagline    title  video  \\\n",
       "1  Released  Roll the dice and unleash the excitement!  Jumanji  False   \n",
       "\n",
       "  vote_average vote_count  \n",
       "1          6.9     2413.0  \n",
       "\n",
       "[1 rows x 24 columns]"
      ]
     },
     "execution_count": 33,
     "metadata": {},
     "output_type": "execute_result"
    }
   ],
   "source": [
    "movies[movies['belongs_to_collection'].isna()].head(1)"
   ]
  },
  {
   "cell_type": "markdown",
   "metadata": {},
   "source": [
    "Se elimina columna belongs_to_collection ya que solo contiene títulos. La columna title suplirá esta función"
   ]
  },
  {
   "cell_type": "code",
   "execution_count": 34,
   "metadata": {},
   "outputs": [],
   "source": [
    "movies = movies.drop(columns=['belongs_to_collection'])"
   ]
  },
  {
   "cell_type": "markdown",
   "metadata": {},
   "source": [
    "Columna genres es una lista de diccionarios"
   ]
  },
  {
   "cell_type": "code",
   "execution_count": 35,
   "metadata": {},
   "outputs": [
    {
     "data": {
      "text/plain": [
       "0    [{'id': 16, 'name': 'Animation'}, {'id': 35, '...\n",
       "1    [{'id': 12, 'name': 'Adventure'}, {'id': 14, '...\n",
       "2    [{'id': 10749, 'name': 'Romance'}, {'id': 35, ...\n",
       "3    [{'id': 35, 'name': 'Comedy'}, {'id': 18, 'nam...\n",
       "4                       [{'id': 35, 'name': 'Comedy'}]\n",
       "5    [{'id': 28, 'name': 'Action'}, {'id': 80, 'nam...\n",
       "6    [{'id': 35, 'name': 'Comedy'}, {'id': 10749, '...\n",
       "7    [{'id': 28, 'name': 'Action'}, {'id': 12, 'nam...\n",
       "8    [{'id': 28, 'name': 'Action'}, {'id': 12, 'nam...\n",
       "9    [{'id': 12, 'name': 'Adventure'}, {'id': 28, '...\n",
       "Name: genres, dtype: object"
      ]
     },
     "execution_count": 35,
     "metadata": {},
     "output_type": "execute_result"
    }
   ],
   "source": [
    "movies['genres'].head(10)"
   ]
  },
  {
   "cell_type": "code",
   "execution_count": 36,
   "metadata": {},
   "outputs": [
    {
     "data": {
      "text/plain": [
       "\"[{'id': 28, 'name': 'Action'}, {'id': 80, 'name': 'Crime'}, {'id': 18, 'name': 'Drama'}, {'id': 53, 'name': 'Thriller'}]\""
      ]
     },
     "execution_count": 36,
     "metadata": {},
     "output_type": "execute_result"
    }
   ],
   "source": [
    "movies['genres'].iloc[5]"
   ]
  },
  {
   "cell_type": "code",
   "execution_count": 37,
   "metadata": {},
   "outputs": [
    {
     "data": {
      "text/plain": [
       "0     [Animation, Comedy, Family]\n",
       "1    [Adventure, Fantasy, Family]\n",
       "2               [Romance, Comedy]\n",
       "3        [Comedy, Drama, Romance]\n",
       "4                        [Comedy]\n",
       "Name: genre_list, dtype: object"
      ]
     },
     "execution_count": 37,
     "metadata": {},
     "output_type": "execute_result"
    }
   ],
   "source": [
    "movies['genre_list'] = movies['genres'].apply(desanidar_name_lista)\n",
    "\n",
    "movies['genre_list'].head()"
   ]
  },
  {
   "cell_type": "markdown",
   "metadata": {},
   "source": [
    "#### Columna genre_list: Desanidar y one hot encoding"
   ]
  },
  {
   "cell_type": "code",
   "execution_count": 38,
   "metadata": {},
   "outputs": [
    {
     "name": "stdout",
     "output_type": "stream",
     "text": [
      "Index(['adult', 'budget', 'genres', 'homepage', 'id', 'imdb_id',\n",
      "       'original_language', 'original_title', 'overview', 'popularity',\n",
      "       'poster_path', 'production_companies', 'production_countries',\n",
      "       'release_date', 'revenue', 'runtime', 'spoken_languages', 'status',\n",
      "       'tagline', 'title', 'video', 'vote_average', 'vote_count', 'genre_list',\n",
      "       'Action', 'Adventure', 'Animation', 'Aniplex', 'BROSTA TV',\n",
      "       'Carousel Productions', 'Comedy', 'Crime', 'Documentary', 'Drama',\n",
      "       'Family', 'Fantasy', 'Foreign', 'GoHands', 'History', 'Horror',\n",
      "       'Mardock Scramble Production Committee', 'Music', 'Mystery',\n",
      "       'Odyssey Media', 'Pulser Productions', 'Rogue State', 'Romance',\n",
      "       'Science Fiction', 'Sentai Filmworks', 'TV Movie',\n",
      "       'Telescene Film Group Productions', 'The Cartel', 'Thriller',\n",
      "       'Vision View Entertainment', 'War', 'Western'],\n",
      "      dtype='object')\n"
     ]
    }
   ],
   "source": [
    "# Aqui se convierte cada genre de la lista en su propia fila con .explode()\n",
    "# Se crea una columna binaria por cada genero con .str.get_dummies()\n",
    "# se combinan las variables dummies de vuelta al dataframe original mediante la sumatoria de las filas que pertenezcan a la misma pelicula en .groupby(level=0).sum()\n",
    "genre_dummies = movies['genre_list'].explode().str.get_dummies().groupby(level=0).sum()\n",
    "\n",
    "movies = pd.concat([movies, genre_dummies], axis=1)\n",
    "\n",
    "print(movies.columns)"
   ]
  },
  {
   "cell_type": "markdown",
   "metadata": {},
   "source": [
    "Eliminar columnas: 'Aniplex', 'BROSTA TV', 'Carousel Productions', 'GoHands', 'Mardock Scramble Production Committee', 'Odyssey Media', 'Pulser Productions', 'Rogue State', 'Sentai Filmworks', 'Telescene Film Group Productions', 'The Cartel', 'Vision View Entertainment', 'genres', 'genre_list'"
   ]
  },
  {
   "cell_type": "code",
   "execution_count": 39,
   "metadata": {},
   "outputs": [
    {
     "data": {
      "text/plain": [
       "Index(['adult', 'budget', 'homepage', 'id', 'imdb_id', 'original_language',\n",
       "       'original_title', 'overview', 'popularity', 'poster_path',\n",
       "       'production_companies', 'production_countries', 'release_date',\n",
       "       'revenue', 'runtime', 'spoken_languages', 'status', 'tagline', 'title',\n",
       "       'video', 'vote_average', 'vote_count', 'Action', 'Adventure',\n",
       "       'Animation', 'Comedy', 'Crime', 'Documentary', 'Drama', 'Family',\n",
       "       'Fantasy', 'Foreign', 'History', 'Horror', 'Music', 'Mystery',\n",
       "       'Romance', 'Science Fiction', 'TV Movie', 'Thriller', 'War', 'Western'],\n",
       "      dtype='object')"
      ]
     },
     "execution_count": 39,
     "metadata": {},
     "output_type": "execute_result"
    }
   ],
   "source": [
    "movies = movies.drop(columns=['Aniplex', \n",
    "                              'BROSTA TV', \n",
    "                              'Carousel Productions', \n",
    "                              'GoHands', \n",
    "                              'Mardock Scramble Production Committee', \n",
    "                              'Odyssey Media', 'Pulser Productions', \n",
    "                              'Rogue State', \n",
    "                              'Sentai Filmworks', \n",
    "                              'Telescene Film Group Productions', \n",
    "                              'The Cartel', \n",
    "                              'Vision View Entertainment', \n",
    "                              'genres', \n",
    "                              'genre_list'])\n",
    "\n",
    "movies.columns"
   ]
  },
  {
   "cell_type": "markdown",
   "metadata": {},
   "source": [
    "#### Columna spoken_languages: Desanidar y One hot encoding"
   ]
  },
  {
   "cell_type": "markdown",
   "metadata": {},
   "source": [
    "Nota: Columna original_language y spoken_languages tienen demasiados idiomas ¿Valdrá la pena hacer one hot enconding?"
   ]
  },
  {
   "cell_type": "code",
   "execution_count": 40,
   "metadata": {},
   "outputs": [
    {
     "data": {
      "text/plain": [
       "45455"
      ]
     },
     "execution_count": 40,
     "metadata": {},
     "output_type": "execute_result"
    }
   ],
   "source": [
    "movies['original_language'].value_counts().sum()"
   ]
  },
  {
   "cell_type": "code",
   "execution_count": 41,
   "metadata": {},
   "outputs": [
    {
     "data": {
      "text/plain": [
       "\"[{'iso_639_1': 'en', 'name': 'English'}, {'iso_639_1': 'es', 'name': 'Español'}]\""
      ]
     },
     "execution_count": 41,
     "metadata": {},
     "output_type": "execute_result"
    }
   ],
   "source": [
    "movies['spoken_languages'].iloc[5]"
   ]
  },
  {
   "cell_type": "code",
   "execution_count": 42,
   "metadata": {},
   "outputs": [
    {
     "data": {
      "text/plain": [
       "language_list\n",
       "[English]                                  22395\n",
       "[]                                          3835\n",
       "[Français]                                  1853\n",
       "[日本語]                                       1289\n",
       "[Italiano]                                  1218\n",
       "                                           ...  \n",
       "[Français, Latin, , Português, English]        1\n",
       "[Español, עִבְרִית, English]                   1\n",
       "[English, Íslenska, Pусский]                   1\n",
       "[فارسی, ]                                      1\n",
       "[Fulfulde, English]                            1\n",
       "Name: count, Length: 1843, dtype: int64"
      ]
     },
     "execution_count": 42,
     "metadata": {},
     "output_type": "execute_result"
    }
   ],
   "source": [
    "movies['language_list'] = movies['spoken_languages'].apply(desanidar_name_lista)\n",
    "\n",
    "movies['language_list'].value_counts()"
   ]
  },
  {
   "cell_type": "markdown",
   "metadata": {},
   "source": [
    "Obtenemos una lista de los idiomas resultantes"
   ]
  },
  {
   "cell_type": "code",
   "execution_count": 43,
   "metadata": {},
   "outputs": [
    {
     "name": "stdout",
     "output_type": "stream",
     "text": [
      "['?????', '??????', 'Afrikaans', 'Azərbaycan', 'Bahasa indonesia', 'Bahasa melayu', 'Bamanankan', 'Bokmål', 'Bosanski', 'Català', 'Cymraeg', 'Dansk', 'Deutsch', 'Eesti', 'English', 'Español', 'Esperanto', 'Français', 'Fulfulde', 'Gaeilge', 'Galego', 'Hausa', 'Hrvatski', 'Italiano', 'Kinyarwanda', 'Kiswahili', 'Latin', 'Latviešu', 'Lietuvi\\x9akai', 'Magyar', 'Malti', 'Nederlands', 'No Language', 'Norsk', 'Polski', 'Português', 'Pусский', 'Română', 'Slovenčina', 'Slovenščina', 'Somali', 'Srpski', 'Tiếng Việt', 'Türkçe', 'Wolof', 'euskera', 'isiZulu', 'ozbek', 'shqip', 'suomi', 'svenska', 'Íslenska', 'Český', 'ελληνικά', 'Український', 'беларуская мова', 'български език', 'қазақ', 'עִבְרִית', 'اردو', 'العربية', 'فارسی', 'پښتو', 'हिन्दी', 'বাংলা', 'ਪੰਜਾਬੀ', 'தமிழ்', 'తెలుగు', 'ภาษาไทย', 'ქართული', '广州话 / 廣州話', '日本語', '普通话', '한국어/조선말']\n"
     ]
    }
   ],
   "source": [
    "# Se inicializa un set() vacío para almacenar los lenguajes sin repeticiones\n",
    "unique_languages = set()\n",
    "\n",
    "# itera sobre la columna 'language_list'\n",
    "# Iterate over the language_list column\n",
    "for languages in movies['language_list']:\n",
    "    if isinstance(languages, list):  # Se asegura de que el valor sea una lista\n",
    "        unique_languages.update(lang for lang in languages if lang.strip())  # Excluye listas vacías\n",
    "\n",
    "# Convierte el set a la lista ordenada \n",
    "unique_languages_list = sorted(unique_languages)\n",
    "\n",
    "print(unique_languages_list)"
   ]
  },
  {
   "cell_type": "markdown",
   "metadata": {},
   "source": [
    "Debido a la gran cantidad de idiomas, estos deberán se agrupados para luego poder realizar el one hot encoding"
   ]
  },
  {
   "cell_type": "markdown",
   "metadata": {},
   "source": [
    "Se usará un diccionario para mapear los grupos a los cuáles pertenece cada lenguaje"
   ]
  },
  {
   "cell_type": "code",
   "execution_count": 44,
   "metadata": {},
   "outputs": [],
   "source": [
    "language_to_group = {\n",
    "    \n",
    "    'Français': 'Romance Languages',\n",
    "    'Español': 'Romance Languages',\n",
    "    'Italiano': 'Romance Languages',\n",
    "    'Português': 'Romance Languages',\n",
    "    'Català': 'Romance Languages',\n",
    "    'Latin': 'Romance Languages',\n",
    "    'Română': 'Romance Languages',\n",
    "\n",
    "    'English': 'Germanic Languages',\n",
    "    'Deutsch': 'Germanic Languages',\n",
    "    'Nederlands': 'Germanic Languages',\n",
    "    'Bokmål': 'Germanic Languages',\n",
    "    'Svenska': 'Germanic Languages',\n",
    "    'Dansk': 'Germanic Languages',\n",
    "\n",
    "    'Pусский': 'Slavic Languages',\n",
    "    'Polski': 'Slavic Languages',\n",
    "    'Український': 'Slavic Languages',\n",
    "    'Српски': 'Slavic Languages',\n",
    "    'Slovenčina': 'Slavic Languages',\n",
    "\n",
    "    '日本語': 'Asian Languages',\n",
    "    '普通话': 'Asian Languages',\n",
    "    '한국어/조선말': 'Asian Languages',\n",
    "    'हिन्दी': 'Asian Languages',\n",
    "    'বাংলা': 'Asian Languages',\n",
    "    'اردو': 'Asian Languages',\n",
    "\n",
    "    'Kiswahili': 'African Languages',\n",
    "    'Hausa': 'African Languages',\n",
    "    'Fulfulde': 'African Languages',\n",
    "    'Somali': 'African Languages',\n",
    "    'isiZulu': 'African Languages',\n",
    "\n",
    "    'No Language': 'Other Languages',\n",
    "    '?????': 'Other Languages',\n",
    "    '??????': 'Other Languages',\n",
    "}\n"
   ]
  },
  {
   "cell_type": "markdown",
   "metadata": {},
   "source": [
    "Se define función que mapeará los idiomas a sus respectivos grupos"
   ]
  },
  {
   "cell_type": "code",
   "execution_count": 45,
   "metadata": {},
   "outputs": [],
   "source": [
    "def map_languages_to_groups(language_list):\n",
    "    if not language_list:  # Se encarga de las listas vacías\n",
    "        return []\n",
    "    return list({language_to_group.get(language, 'Other Languages') for language in language_list})"
   ]
  },
  {
   "cell_type": "markdown",
   "metadata": {},
   "source": [
    "Se mapea los lenguajes y se realiza el one hot encoding"
   ]
  },
  {
   "cell_type": "code",
   "execution_count": 46,
   "metadata": {},
   "outputs": [
    {
     "name": "stdout",
     "output_type": "stream",
     "text": [
      "Index(['adult', 'budget', 'homepage', 'id', 'imdb_id', 'original_language',\n",
      "       'original_title', 'overview', 'popularity', 'poster_path',\n",
      "       'production_companies', 'production_countries', 'release_date',\n",
      "       'revenue', 'runtime', 'spoken_languages', 'status', 'tagline', 'title',\n",
      "       'video', 'vote_average', 'vote_count', 'Action', 'Adventure',\n",
      "       'Animation', 'Comedy', 'Crime', 'Documentary', 'Drama', 'Family',\n",
      "       'Fantasy', 'Foreign', 'History', 'Horror', 'Music', 'Mystery',\n",
      "       'Romance', 'Science Fiction', 'TV Movie', 'Thriller', 'War', 'Western',\n",
      "       'language_list', 'language_groups', 'African Languages',\n",
      "       'Asian Languages', 'Germanic Languages', 'Other Languages',\n",
      "       'Romance Languages', 'Slavic Languages'],\n",
      "      dtype='object')\n"
     ]
    }
   ],
   "source": [
    "# Mapea los lenguajes a sus respectivos grupos\n",
    "movies['language_groups'] = movies['language_list'].apply(map_languages_to_groups)\n",
    "\n",
    "# Realiza el one hot encoding a los lenguajes agrupados\n",
    "language_group_dummies = movies['language_groups'].explode().str.get_dummies().groupby(level=0).sum()\n",
    "\n",
    "# Concatena las columnas resultantes del one hot encoding de vuelta al dataframe\n",
    "movies = pd.concat([movies, language_group_dummies], axis=1)\n",
    "\n",
    "print(movies.columns)"
   ]
  },
  {
   "cell_type": "markdown",
   "metadata": {},
   "source": [
    "Se elimina columnas language_list, original_language, language_groups"
   ]
  },
  {
   "cell_type": "code",
   "execution_count": 47,
   "metadata": {},
   "outputs": [],
   "source": [
    "# eliminar columnas language_list, original_language, language_groups\n",
    "movies = movies.drop(columns=['language_list', 'original_language', 'language_groups', 'spoken_languages'])"
   ]
  },
  {
   "cell_type": "markdown",
   "metadata": {},
   "source": [
    "#### Columna production_companies: (Se elimina) Desanidar y One hot encoding"
   ]
  },
  {
   "cell_type": "code",
   "execution_count": 48,
   "metadata": {},
   "outputs": [
    {
     "data": {
      "text/plain": [
       "\"[{'name': 'Warner Bros.', 'id': 6194}, {'name': 'Lancaster Gate', 'id': 19464}]\""
      ]
     },
     "execution_count": 48,
     "metadata": {},
     "output_type": "execute_result"
    }
   ],
   "source": [
    "movies['production_companies'].iloc[2]"
   ]
  },
  {
   "cell_type": "markdown",
   "metadata": {},
   "source": [
    "Nota: columna production_companies tiene valores booleanos en 'name' en algunas filas"
   ]
  },
  {
   "cell_type": "markdown",
   "metadata": {},
   "source": [
    "Nota: Desanidar la columna 'production_companies' tarda demasiado y no resulta"
   ]
  },
  {
   "cell_type": "markdown",
   "metadata": {},
   "source": [
    "Se elimina columna production companies ya que no se considera relevante para posteriores procesos"
   ]
  },
  {
   "cell_type": "code",
   "execution_count": 49,
   "metadata": {},
   "outputs": [],
   "source": [
    "movies = movies.drop(columns=['production_companies'])"
   ]
  },
  {
   "cell_type": "markdown",
   "metadata": {},
   "source": [
    "#### Columna production_countries: Desanidar y One hot encoding"
   ]
  },
  {
   "cell_type": "markdown",
   "metadata": {},
   "source": [
    "Nueva Nota: oredenar el codigo siguiente"
   ]
  },
  {
   "cell_type": "code",
   "execution_count": 50,
   "metadata": {},
   "outputs": [],
   "source": [
    "# Se aplica la función desanidar_name_lista a la columna 'production_countries' del DataFrame\n",
    "movies['prod_countries'] = movies['production_countries'].apply(desanidar_name_lista)"
   ]
  },
  {
   "cell_type": "code",
   "execution_count": 51,
   "metadata": {},
   "outputs": [],
   "source": [
    "# Diccionario que mapea países a sus respectivos continentes\n",
    "country_to_continent = {\n",
    "    'Africa': [\n",
    "        'Algeria', 'Angola', 'Botswana', 'Burkina Faso', 'Cameroon', 'Chad', 'Congo',\n",
    "        'Cote D\\'Ivoire', 'Egypt', 'Ethiopia', 'Ghana', 'Kenya', 'Liberia',\n",
    "        'Libyan Arab Jamahiriya', 'Madagascar', 'Mali', 'Mauritania', 'Morocco',\n",
    "        'Namibia', 'Nigeria', 'Rwanda', 'Senegal', 'Somalia', 'South Africa',\n",
    "        'Tanzania', 'Tunisia', 'Uganda', 'Zimbabwe'\n",
    "    ],\n",
    "    'Antarctica': [\n",
    "        'Antarctica'\n",
    "    ],\n",
    "    'Asia': [\n",
    "        'Afghanistan', 'Armenia', 'Azerbaijan', 'Bangladesh', 'Bhutan', 'Brunei Darussalam',\n",
    "        'Cambodia', 'China', 'Cyprus', 'Georgia', 'Hong Kong', 'India', 'Indonesia',\n",
    "        'Iran', 'Iraq', 'Israel', 'Japan', 'Jordan', 'Kazakhstan', 'Kuwait',\n",
    "        'Kyrgyz Republic', 'Lao People\\'s Democratic Republic', 'Lebanon',\n",
    "        'Macao', 'Malaysia', 'Mongolia', 'Myanmar', 'Nepal', 'North Korea',\n",
    "        'Pakistan', 'Palestinian Territory', 'Philippines', 'Qatar', 'Saudi Arabia',\n",
    "        'Singapore', 'South Korea', 'Sri Lanka', 'Syrian Arab Republic', 'Taiwan',\n",
    "        'Tajikistan', 'Thailand', 'Turkey', 'United Arab Emirates', 'Uzbekistan', 'Vietnam'\n",
    "    ],\n",
    "    'Europe': [\n",
    "        'Albania', 'Austria', 'Belarus', 'Belgium', 'Bosnia and Herzegovina', 'Bulgaria',\n",
    "        'Croatia', 'Czech Republic', 'Czechoslovakia', 'Denmark', 'East Germany',\n",
    "        'Estonia', 'Finland', 'France', 'Germany', 'Gibraltar', 'Greece', 'Hungary',\n",
    "        'Iceland', 'Ireland', 'Italy', 'Latvia', 'Liechtenstein', 'Lithuania',\n",
    "        'Luxembourg', 'Macedonia', 'Malta', 'Moldova', 'Monaco', 'Montenegro',\n",
    "        'Netherlands', 'Norway', 'Poland', 'Portugal', 'Romania', 'Russia',\n",
    "        'Serbia', 'Serbia and Montenegro', 'Slovakia', 'Slovenia', 'Soviet Union',\n",
    "        'Spain', 'Sweden', 'Switzerland', 'Ukraine', 'United Kingdom', 'Yugoslavia'\n",
    "    ],\n",
    "    'North America': [\n",
    "        'Bahamas', 'Barbados', 'Bermuda', 'Canada', 'Cayman Islands', 'Costa Rica',\n",
    "        'Cuba', 'Dominican Republic', 'El Salvador', 'Guatemala', 'Honduras',\n",
    "        'Jamaica', 'Mexico', 'Nicaragua', 'Panama', 'Puerto Rico', 'Trinidad and Tobago',\n",
    "        'United States Minor Outlying Islands', 'United States of America'\n",
    "    ],\n",
    "    'Oceania': [\n",
    "        'Australia', 'French Polynesia', 'New Zealand', 'Papua New Guinea', 'Samoa'\n",
    "    ],\n",
    "    'South America': [\n",
    "        'Argentina', 'Bolivia', 'Brazil', 'Chile', 'Colombia', 'Ecuador', 'Paraguay',\n",
    "        'Peru', 'Uruguay', 'Venezuela'\n",
    "    ],\n",
    "    'Other Continent': [\n",
    "        'Aruba', 'Martinique', 'French Southern Territories'\n",
    "    ]\n",
    "}\n"
   ]
  },
  {
   "cell_type": "code",
   "execution_count": 52,
   "metadata": {},
   "outputs": [],
   "source": [
    "# Función para mapear una lista de países a sus respectivos continentes\n",
    "def map_to_continent(country_list):\n",
    "    # Si la lista de países está vacía o es None, devolvemos una lista vacía\n",
    "    if not country_list:  \n",
    "        return []\n",
    "    continents = []     # Lista para almacenar los continentes encontrados\n",
    "    for country in country_list:    # Iteramos sobre cada país en la lista\n",
    "        found = False   # Bandera para verificar si el país fue asignado a un continente\n",
    "        for continent, countries in country_to_continent.items():\n",
    "            if country in countries:    # Si el país está en la lista de un continente\n",
    "                continents.append(continent)\n",
    "                found = True    # Marcamos como encontrado\n",
    "                break   # Salimos del loop interno\n",
    "        if not found:  # Si el país no está en ningún continente lo asignamos a \"Other Continent\"\n",
    "            continents.append('Other Continent')\n",
    "    return list(set(continents))  # Eliminamos duplicados y devolvemos los continentes únicos\n"
   ]
  },
  {
   "cell_type": "code",
   "execution_count": 53,
   "metadata": {},
   "outputs": [
    {
     "name": "stdout",
     "output_type": "stream",
     "text": [
      "Index(['adult', 'budget', 'homepage', 'id', 'imdb_id', 'original_title',\n",
      "       'overview', 'popularity', 'poster_path', 'production_countries',\n",
      "       'release_date', 'revenue', 'runtime', 'status', 'tagline', 'title',\n",
      "       'video', 'vote_average', 'vote_count', 'Action', 'Adventure',\n",
      "       'Animation', 'Comedy', 'Crime', 'Documentary', 'Drama', 'Family',\n",
      "       'Fantasy', 'Foreign', 'History', 'Horror', 'Music', 'Mystery',\n",
      "       'Romance', 'Science Fiction', 'TV Movie', 'Thriller', 'War', 'Western',\n",
      "       'African Languages', 'Asian Languages', 'Germanic Languages',\n",
      "       'Other Languages', 'Romance Languages', 'Slavic Languages',\n",
      "       'prod_countries', 'prod_continents', 'Africa', 'Antarctica', 'Asia',\n",
      "       'Europe', 'North America', 'Oceania', 'Other Continent',\n",
      "       'South America'],\n",
      "      dtype='object')\n"
     ]
    }
   ],
   "source": [
    "movies['prod_continents'] = movies['prod_countries'].apply(map_to_continent)\n",
    "\n",
    "# Realiza el one hot encoding a los lenguajes agrupados\n",
    "continent_group_dummies = movies['prod_continents'].explode().str.get_dummies().groupby(level=0).sum()\n",
    "\n",
    "# Concatena las columnas resultantes del one hot encoding de vuelta al dataframe\n",
    "movies = pd.concat([movies, continent_group_dummies], axis=1)\n",
    "\n",
    "print(movies.columns)"
   ]
  },
  {
   "cell_type": "code",
   "execution_count": 54,
   "metadata": {},
   "outputs": [],
   "source": [
    "# eliminar columnas 'prod_countries', 'prod_continents', 'production_countries'\n",
    "movies = movies.drop(columns=['prod_countries', 'prod_continents', 'production_countries'])"
   ]
  },
  {
   "cell_type": "markdown",
   "metadata": {},
   "source": [
    "#### Columna status one hot encoding"
   ]
  },
  {
   "cell_type": "markdown",
   "metadata": {},
   "source": [
    "Se realiza mapeo de las categorías de la columna status, con el fin de generar menos columnas al momento de realizar one hot encoding"
   ]
  },
  {
   "cell_type": "code",
   "execution_count": 55,
   "metadata": {},
   "outputs": [
    {
     "data": {
      "text/plain": [
       "status\n",
       "Released           45014\n",
       "Rumored              230\n",
       "Post Production       98\n",
       "In Production         20\n",
       "Planned               15\n",
       "Canceled               2\n",
       "Name: count, dtype: int64"
      ]
     },
     "execution_count": 55,
     "metadata": {},
     "output_type": "execute_result"
    }
   ],
   "source": [
    "movies['status'].value_counts()"
   ]
  },
  {
   "cell_type": "code",
   "execution_count": 56,
   "metadata": {},
   "outputs": [],
   "source": [
    "# Se define el mapeo\n",
    "mapeo_status = {\n",
    "    'Released': 'Released',\n",
    "    'Rumored': 'In Progress',\n",
    "    'Post Production': 'In Progress',\n",
    "    'In Production': 'In Progress',\n",
    "    'Planned': 'In Progress',\n",
    "    'Canceled': 'Canceled'\n",
    "}\n",
    "\n",
    "# Se mapea la columna status a las nuevas categorias\n",
    "movies['status'] = movies['status'].map(mapeo_status)\n",
    "\n",
    "# One hot encoding de la columna status\n",
    "status_dummies = pd.get_dummies(movies['status']).astype(int)\n",
    "\n",
    "# Se concatenan las columnas derivadas del one hot encoding\n",
    "movies = pd.concat([movies, status_dummies], axis=1)"
   ]
  },
  {
   "cell_type": "code",
   "execution_count": 57,
   "metadata": {},
   "outputs": [],
   "source": [
    "# Se elimina columna status\n",
    "movies = movies.drop(columns=['status'])"
   ]
  },
  {
   "cell_type": "markdown",
   "metadata": {},
   "source": [
    "### Columnas \"budget\" y \"revenue\", transformar valores nulos a 0"
   ]
  },
  {
   "cell_type": "code",
   "execution_count": 58,
   "metadata": {},
   "outputs": [
    {
     "name": "stdout",
     "output_type": "stream",
     "text": [
      "revenue valores nulos: 6 \n",
      "budget valores nulos: 0\n"
     ]
    }
   ],
   "source": [
    "print(\"revenue valores nulos:\", movies['revenue'].isna().sum(),\n",
    "'\\n'\"budget valores nulos:\", movies['budget'].isna().sum())"
   ]
  },
  {
   "cell_type": "code",
   "execution_count": 59,
   "metadata": {},
   "outputs": [
    {
     "name": "stdout",
     "output_type": "stream",
     "text": [
      "revenue valores nulos: 0 \n",
      "budget valores nulos: 0\n"
     ]
    }
   ],
   "source": [
    "movies['budget'] = movies['budget'].fillna(0)\n",
    "movies['revenue'] = movies['revenue'].fillna(0)\n",
    "\n",
    "print(\"revenue valores nulos:\", movies['revenue'].isna().sum(),\n",
    "'\\n'\"budget valores nulos:\", movies['budget'].isna().sum())"
   ]
  },
  {
   "cell_type": "markdown",
   "metadata": {},
   "source": [
    "### Manejar valores no numéricos de columna budget"
   ]
  },
  {
   "cell_type": "code",
   "execution_count": 60,
   "metadata": {},
   "outputs": [
    {
     "data": {
      "text/html": [
       "<div>\n",
       "<style scoped>\n",
       "    .dataframe tbody tr th:only-of-type {\n",
       "        vertical-align: middle;\n",
       "    }\n",
       "\n",
       "    .dataframe tbody tr th {\n",
       "        vertical-align: top;\n",
       "    }\n",
       "\n",
       "    .dataframe thead th {\n",
       "        text-align: right;\n",
       "    }\n",
       "</style>\n",
       "<table border=\"1\" class=\"dataframe\">\n",
       "  <thead>\n",
       "    <tr style=\"text-align: right;\">\n",
       "      <th></th>\n",
       "      <th>adult</th>\n",
       "      <th>budget</th>\n",
       "      <th>homepage</th>\n",
       "      <th>id</th>\n",
       "      <th>imdb_id</th>\n",
       "      <th>original_title</th>\n",
       "      <th>overview</th>\n",
       "      <th>popularity</th>\n",
       "      <th>poster_path</th>\n",
       "      <th>release_date</th>\n",
       "      <th>...</th>\n",
       "      <th>Antarctica</th>\n",
       "      <th>Asia</th>\n",
       "      <th>Europe</th>\n",
       "      <th>North America</th>\n",
       "      <th>Oceania</th>\n",
       "      <th>Other Continent</th>\n",
       "      <th>South America</th>\n",
       "      <th>Canceled</th>\n",
       "      <th>In Progress</th>\n",
       "      <th>Released</th>\n",
       "    </tr>\n",
       "  </thead>\n",
       "  <tbody>\n",
       "    <tr>\n",
       "      <th>19730</th>\n",
       "      <td>- Written by Ørnås</td>\n",
       "      <td>/ff9qCepilowshEtG2GYWwzt2bs4.jpg</td>\n",
       "      <td>[{'iso_3166_1': 'CA', 'name': 'Canada'}, {'iso...</td>\n",
       "      <td>1997-08-20</td>\n",
       "      <td>0</td>\n",
       "      <td>[{'iso_639_1': 'en', 'name': 'English'}]</td>\n",
       "      <td>Released</td>\n",
       "      <td>NaN</td>\n",
       "      <td>Midnight Man</td>\n",
       "      <td>1</td>\n",
       "      <td>...</td>\n",
       "      <td>0</td>\n",
       "      <td>0</td>\n",
       "      <td>0</td>\n",
       "      <td>0</td>\n",
       "      <td>0</td>\n",
       "      <td>0</td>\n",
       "      <td>0</td>\n",
       "      <td>0</td>\n",
       "      <td>0</td>\n",
       "      <td>0</td>\n",
       "    </tr>\n",
       "    <tr>\n",
       "      <th>29503</th>\n",
       "      <td>Rune Balot goes to a casino connected to the ...</td>\n",
       "      <td>/zV8bHuSL6WXoD6FWogP9j4x80bL.jpg</td>\n",
       "      <td>[{'iso_3166_1': 'US', 'name': 'United States o...</td>\n",
       "      <td>2012-09-29</td>\n",
       "      <td>0</td>\n",
       "      <td>[{'iso_639_1': 'ja', 'name': '日本語'}]</td>\n",
       "      <td>Released</td>\n",
       "      <td>NaN</td>\n",
       "      <td>Mardock Scramble: The Third Exhaust</td>\n",
       "      <td>12</td>\n",
       "      <td>...</td>\n",
       "      <td>0</td>\n",
       "      <td>0</td>\n",
       "      <td>0</td>\n",
       "      <td>0</td>\n",
       "      <td>0</td>\n",
       "      <td>0</td>\n",
       "      <td>0</td>\n",
       "      <td>0</td>\n",
       "      <td>0</td>\n",
       "      <td>0</td>\n",
       "    </tr>\n",
       "    <tr>\n",
       "      <th>35587</th>\n",
       "      <td>Avalanche Sharks tells the story of a bikini ...</td>\n",
       "      <td>/zaSf5OG7V8X8gqFvly88zDdRm46.jpg</td>\n",
       "      <td>[{'iso_3166_1': 'CA', 'name': 'Canada'}]</td>\n",
       "      <td>2014-01-01</td>\n",
       "      <td>0</td>\n",
       "      <td>[{'iso_639_1': 'en', 'name': 'English'}]</td>\n",
       "      <td>Released</td>\n",
       "      <td>Beware Of Frost Bites</td>\n",
       "      <td>Avalanche Sharks</td>\n",
       "      <td>22</td>\n",
       "      <td>...</td>\n",
       "      <td>0</td>\n",
       "      <td>0</td>\n",
       "      <td>0</td>\n",
       "      <td>0</td>\n",
       "      <td>0</td>\n",
       "      <td>0</td>\n",
       "      <td>0</td>\n",
       "      <td>0</td>\n",
       "      <td>0</td>\n",
       "      <td>0</td>\n",
       "    </tr>\n",
       "  </tbody>\n",
       "</table>\n",
       "<p>3 rows × 54 columns</p>\n",
       "</div>"
      ],
      "text/plain": [
       "                                                   adult  \\\n",
       "19730                                 - Written by Ørnås   \n",
       "29503   Rune Balot goes to a casino connected to the ...   \n",
       "35587   Avalanche Sharks tells the story of a bikini ...   \n",
       "\n",
       "                                 budget  \\\n",
       "19730  /ff9qCepilowshEtG2GYWwzt2bs4.jpg   \n",
       "29503  /zV8bHuSL6WXoD6FWogP9j4x80bL.jpg   \n",
       "35587  /zaSf5OG7V8X8gqFvly88zDdRm46.jpg   \n",
       "\n",
       "                                                homepage          id imdb_id  \\\n",
       "19730  [{'iso_3166_1': 'CA', 'name': 'Canada'}, {'iso...  1997-08-20       0   \n",
       "29503  [{'iso_3166_1': 'US', 'name': 'United States o...  2012-09-29       0   \n",
       "35587           [{'iso_3166_1': 'CA', 'name': 'Canada'}]  2014-01-01       0   \n",
       "\n",
       "                                 original_title  overview  \\\n",
       "19730  [{'iso_639_1': 'en', 'name': 'English'}]  Released   \n",
       "29503      [{'iso_639_1': 'ja', 'name': '日本語'}]  Released   \n",
       "35587  [{'iso_639_1': 'en', 'name': 'English'}]  Released   \n",
       "\n",
       "                  popularity                          poster_path  \\\n",
       "19730                    NaN                         Midnight Man   \n",
       "29503                    NaN  Mardock Scramble: The Third Exhaust   \n",
       "35587  Beware Of Frost Bites                     Avalanche Sharks   \n",
       "\n",
       "      release_date  ...  Antarctica  Asia Europe North America Oceania  \\\n",
       "19730            1  ...           0     0      0             0       0   \n",
       "29503           12  ...           0     0      0             0       0   \n",
       "35587           22  ...           0     0      0             0       0   \n",
       "\n",
       "       Other Continent  South America  Canceled  In Progress  Released  \n",
       "19730                0              0         0            0         0  \n",
       "29503                0              0         0            0         0  \n",
       "35587                0              0         0            0         0  \n",
       "\n",
       "[3 rows x 54 columns]"
      ]
     },
     "execution_count": 60,
     "metadata": {},
     "output_type": "execute_result"
    }
   ],
   "source": [
    "no_numericos = movies[movies['budget'].str.isnumeric() == False]\n",
    "\n",
    "no_numericos"
   ]
  },
  {
   "cell_type": "code",
   "execution_count": 61,
   "metadata": {},
   "outputs": [],
   "source": [
    "movies = movies.drop(no_numericos.index)"
   ]
  },
  {
   "cell_type": "markdown",
   "metadata": {},
   "source": [
    "### Cambiar data type de columna budget"
   ]
  },
  {
   "cell_type": "code",
   "execution_count": 62,
   "metadata": {},
   "outputs": [],
   "source": [
    "movies['budget'] = movies['budget'].astype(float)"
   ]
  },
  {
   "cell_type": "markdown",
   "metadata": {},
   "source": [
    "### EDA columnas budget y revenue"
   ]
  },
  {
   "cell_type": "markdown",
   "metadata": {},
   "source": [
    "NOTA: Revisar outliers"
   ]
  },
  {
   "cell_type": "code",
   "execution_count": 63,
   "metadata": {},
   "outputs": [
    {
     "data": {
      "text/html": [
       "<div>\n",
       "<style scoped>\n",
       "    .dataframe tbody tr th:only-of-type {\n",
       "        vertical-align: middle;\n",
       "    }\n",
       "\n",
       "    .dataframe tbody tr th {\n",
       "        vertical-align: top;\n",
       "    }\n",
       "\n",
       "    .dataframe thead th {\n",
       "        text-align: right;\n",
       "    }\n",
       "</style>\n",
       "<table border=\"1\" class=\"dataframe\">\n",
       "  <thead>\n",
       "    <tr style=\"text-align: right;\">\n",
       "      <th></th>\n",
       "      <th>budget</th>\n",
       "      <th>revenue</th>\n",
       "    </tr>\n",
       "  </thead>\n",
       "  <tbody>\n",
       "    <tr>\n",
       "      <th>count</th>\n",
       "      <td>4.546300e+04</td>\n",
       "      <td>4.546300e+04</td>\n",
       "    </tr>\n",
       "    <tr>\n",
       "      <th>mean</th>\n",
       "      <td>4.224579e+06</td>\n",
       "      <td>1.120861e+07</td>\n",
       "    </tr>\n",
       "    <tr>\n",
       "      <th>std</th>\n",
       "      <td>1.742413e+07</td>\n",
       "      <td>6.433019e+07</td>\n",
       "    </tr>\n",
       "    <tr>\n",
       "      <th>min</th>\n",
       "      <td>0.000000e+00</td>\n",
       "      <td>0.000000e+00</td>\n",
       "    </tr>\n",
       "    <tr>\n",
       "      <th>25%</th>\n",
       "      <td>0.000000e+00</td>\n",
       "      <td>0.000000e+00</td>\n",
       "    </tr>\n",
       "    <tr>\n",
       "      <th>50%</th>\n",
       "      <td>0.000000e+00</td>\n",
       "      <td>0.000000e+00</td>\n",
       "    </tr>\n",
       "    <tr>\n",
       "      <th>75%</th>\n",
       "      <td>0.000000e+00</td>\n",
       "      <td>0.000000e+00</td>\n",
       "    </tr>\n",
       "    <tr>\n",
       "      <th>max</th>\n",
       "      <td>3.800000e+08</td>\n",
       "      <td>2.787965e+09</td>\n",
       "    </tr>\n",
       "  </tbody>\n",
       "</table>\n",
       "</div>"
      ],
      "text/plain": [
       "             budget       revenue\n",
       "count  4.546300e+04  4.546300e+04\n",
       "mean   4.224579e+06  1.120861e+07\n",
       "std    1.742413e+07  6.433019e+07\n",
       "min    0.000000e+00  0.000000e+00\n",
       "25%    0.000000e+00  0.000000e+00\n",
       "50%    0.000000e+00  0.000000e+00\n",
       "75%    0.000000e+00  0.000000e+00\n",
       "max    3.800000e+08  2.787965e+09"
      ]
     },
     "execution_count": 63,
     "metadata": {},
     "output_type": "execute_result"
    }
   ],
   "source": [
    "movies[['budget', 'revenue']].describe()"
   ]
  },
  {
   "cell_type": "code",
   "execution_count": 64,
   "metadata": {},
   "outputs": [
    {
     "data": {
      "image/png": "[encoded data removed]",
      "text/plain": [
       "<Figure size 400x300 with 1 Axes>"
      ]
     },
     "metadata": {},
     "output_type": "display_data"
    }
   ],
   "source": [
    "plt.figure(figsize=(4,3))\n",
    "sns.histplot(movies['revenue'], bins=30)\n",
    "plt.title('Revenue boxplot')\n",
    "plt.ylabel('Revenue')\n",
    "plt.show()"
   ]
  },
  {
   "cell_type": "code",
   "execution_count": 65,
   "metadata": {},
   "outputs": [
    {
     "data": {
      "image/png": "[encoded data removed]",
      "text/plain": [
       "<Figure size 400x300 with 1 Axes>"
      ]
     },
     "metadata": {},
     "output_type": "display_data"
    }
   ],
   "source": [
    "plt.figure(figsize=(4,3))\n",
    "sns.histplot(movies['budget'], bins=30)\n",
    "plt.title('Budget boxplot')\n",
    "plt.ylabel('Budget')\n",
    "plt.show()"
   ]
  },
  {
   "cell_type": "markdown",
   "metadata": {},
   "source": [
    "### Columna popularity a tipo float"
   ]
  },
  {
   "cell_type": "code",
   "execution_count": 66,
   "metadata": {},
   "outputs": [],
   "source": [
    "movies['popularity'] = movies['popularity'].astype('float')"
   ]
  },
  {
   "cell_type": "code",
   "execution_count": 67,
   "metadata": {},
   "outputs": [
    {
     "data": {
      "text/plain": [
       "count    45460.000000\n",
       "mean         2.921478\n",
       "std          6.005414\n",
       "min          0.000000\n",
       "25%          0.385948\n",
       "50%          1.127685\n",
       "75%          3.678902\n",
       "max        547.488298\n",
       "Name: popularity, dtype: float64"
      ]
     },
     "execution_count": 67,
     "metadata": {},
     "output_type": "execute_result"
    }
   ],
   "source": [
    "movies['popularity'].describe()"
   ]
  },
  {
   "cell_type": "markdown",
   "metadata": {},
   "source": [
    "### Eliminar valores nulos columna release_date"
   ]
  },
  {
   "cell_type": "code",
   "execution_count": 68,
   "metadata": {},
   "outputs": [
    {
     "name": "stdout",
     "output_type": "stream",
     "text": [
      "release_date valores nulos: 87\n"
     ]
    }
   ],
   "source": [
    "print('release_date valores nulos:', movies['release_date'].isna().sum())"
   ]
  },
  {
   "cell_type": "code",
   "execution_count": 69,
   "metadata": {},
   "outputs": [
    {
     "name": "stdout",
     "output_type": "stream",
     "text": [
      "release_date valores nulos: 0\n"
     ]
    }
   ],
   "source": [
    "movies.dropna(subset=['release_date'], inplace=True)\n",
    "\n",
    "print('release_date valores nulos:', movies['release_date'].isna().sum())"
   ]
  },
  {
   "cell_type": "markdown",
   "metadata": {},
   "source": [
    "### Eliminar valores duplicados"
   ]
  },
  {
   "cell_type": "code",
   "execution_count": 70,
   "metadata": {},
   "outputs": [
    {
     "name": "stdout",
     "output_type": "stream",
     "text": [
      "id's duplicados: 30\n"
     ]
    }
   ],
   "source": [
    "id_duplicados_count = movies['id'].duplicated().sum()\n",
    "print(\"id's duplicados:\", id_duplicados_count)"
   ]
  },
  {
   "cell_type": "code",
   "execution_count": 71,
   "metadata": {},
   "outputs": [
    {
     "name": "stdout",
     "output_type": "stream",
     "text": [
      "id's duplicados: 0\n"
     ]
    }
   ],
   "source": [
    "movies = movies.drop_duplicates(subset=['id'], keep='first')\n",
    "\n",
    "id_duplicados_count = movies['id'].duplicated().sum()\n",
    "print(\"id's duplicados:\", id_duplicados_count)"
   ]
  },
  {
   "cell_type": "markdown",
   "metadata": {},
   "source": [
    "### Formato fechas y columnas \"release_day\", \"release_month\", \"release_year\""
   ]
  },
  {
   "cell_type": "code",
   "execution_count": 72,
   "metadata": {},
   "outputs": [],
   "source": [
    "# Se convierte la columna 'release_date' a tipo datetime\n",
    "movies['release_date'] = pd.to_datetime(movies['release_date'], format=\"%Y-%m-%d\") "
   ]
  },
  {
   "cell_type": "code",
   "execution_count": 73,
   "metadata": {},
   "outputs": [],
   "source": [
    "# Se crea la columna \"release_day\"\n",
    "movies['release_day'] = movies['release_date'].dt.strftime('%A')"
   ]
  },
  {
   "cell_type": "code",
   "execution_count": 74,
   "metadata": {},
   "outputs": [],
   "source": [
    "# Se mapea días en español\n",
    "\n",
    "dias_dicc = {\n",
    "    'Monday': 'Lunes',\n",
    "    'Tuesday': 'Martes',\n",
    "    'Wednesday': 'Miércoles',\n",
    "    'Thursday': 'Jueves',\n",
    "    'Friday': 'Viernes',\n",
    "    'Saturday': 'Sábado',\n",
    "    'Sunday': 'Domingo'\n",
    "}\n",
    "\n",
    "movies['release_day'] = movies['release_day'].map(dias_dicc)"
   ]
  },
  {
   "cell_type": "code",
   "execution_count": 75,
   "metadata": {},
   "outputs": [],
   "source": [
    "# Se crea la columna \"release_month\"\n",
    "\n",
    "movies['release_month'] = movies['release_date'].dt.strftime('%B')"
   ]
  },
  {
   "cell_type": "code",
   "execution_count": 76,
   "metadata": {},
   "outputs": [],
   "source": [
    "# Se mapea meses en español\n",
    "\n",
    "meses_dicc = {\n",
    "    'January' : 'Enero',\n",
    "    'February' : 'Febrero',\n",
    "    'March' : 'Marzo',\n",
    "    'April' : 'Abril',\n",
    "    'May' : 'Mayo',\n",
    "    'June' : 'Junio',\n",
    "    'July' : 'Julio',\n",
    "    'August' : 'Agosto',\n",
    "    'September' : 'Septiembre',\n",
    "    'October' : 'Octubre',\n",
    "    'November' : 'Noviembre',\n",
    "    'December' : 'Diciembre'\n",
    "}\n",
    "\n",
    "movies['release_month'] = movies['release_month'].map(meses_dicc)"
   ]
  },
  {
   "cell_type": "code",
   "execution_count": 77,
   "metadata": {},
   "outputs": [
    {
     "data": {
      "text/html": [
       "<div>\n",
       "<style scoped>\n",
       "    .dataframe tbody tr th:only-of-type {\n",
       "        vertical-align: middle;\n",
       "    }\n",
       "\n",
       "    .dataframe tbody tr th {\n",
       "        vertical-align: top;\n",
       "    }\n",
       "\n",
       "    .dataframe thead th {\n",
       "        text-align: right;\n",
       "    }\n",
       "</style>\n",
       "<table border=\"1\" class=\"dataframe\">\n",
       "  <thead>\n",
       "    <tr style=\"text-align: right;\">\n",
       "      <th></th>\n",
       "      <th>release_day</th>\n",
       "      <th>release_month</th>\n",
       "      <th>release_year</th>\n",
       "    </tr>\n",
       "  </thead>\n",
       "  <tbody>\n",
       "    <tr>\n",
       "      <th>0</th>\n",
       "      <td>Lunes</td>\n",
       "      <td>Octubre</td>\n",
       "      <td>1995</td>\n",
       "    </tr>\n",
       "    <tr>\n",
       "      <th>1</th>\n",
       "      <td>Viernes</td>\n",
       "      <td>Diciembre</td>\n",
       "      <td>1995</td>\n",
       "    </tr>\n",
       "    <tr>\n",
       "      <th>2</th>\n",
       "      <td>Viernes</td>\n",
       "      <td>Diciembre</td>\n",
       "      <td>1995</td>\n",
       "    </tr>\n",
       "    <tr>\n",
       "      <th>3</th>\n",
       "      <td>Viernes</td>\n",
       "      <td>Diciembre</td>\n",
       "      <td>1995</td>\n",
       "    </tr>\n",
       "    <tr>\n",
       "      <th>4</th>\n",
       "      <td>Viernes</td>\n",
       "      <td>Febrero</td>\n",
       "      <td>1995</td>\n",
       "    </tr>\n",
       "  </tbody>\n",
       "</table>\n",
       "</div>"
      ],
      "text/plain": [
       "  release_day release_month  release_year\n",
       "0       Lunes       Octubre          1995\n",
       "1     Viernes     Diciembre          1995\n",
       "2     Viernes     Diciembre          1995\n",
       "3     Viernes     Diciembre          1995\n",
       "4     Viernes       Febrero          1995"
      ]
     },
     "execution_count": 77,
     "metadata": {},
     "output_type": "execute_result"
    }
   ],
   "source": [
    "# Se crea la columna \"release_year\"\n",
    "\n",
    "movies['release_year'] = movies['release_date'].dt.year\n",
    "\n",
    "movies[['release_day', 'release_month', 'release_year']].head()"
   ]
  },
  {
   "cell_type": "markdown",
   "metadata": {},
   "source": [
    "### Creación columna return"
   ]
  },
  {
   "cell_type": "code",
   "execution_count": 78,
   "metadata": {},
   "outputs": [
    {
     "name": "stdout",
     "output_type": "stream",
     "text": [
      "           revenue      budget     return\n",
      "0      373554033.0  30000000.0  12.451801\n",
      "1      262797249.0  65000000.0   4.043035\n",
      "2              0.0         0.0   0.000000\n",
      "3       81452156.0  16000000.0   5.090760\n",
      "4       76578911.0         0.0   0.000000\n",
      "...            ...         ...        ...\n",
      "45460          0.0         0.0   0.000000\n",
      "45462          0.0         0.0   0.000000\n",
      "45463          0.0         0.0   0.000000\n",
      "45464          0.0         0.0   0.000000\n",
      "45465          0.0         0.0   0.000000\n",
      "\n",
      "[45346 rows x 3 columns]\n"
     ]
    }
   ],
   "source": [
    "# Se crea columna 'return' la cual es la división de las columnas 'revenue' y 'return'\n",
    "# Si alguna de las columnas es 0, 'return' es igual a 0\n",
    "movies['return'] = np.where(\n",
    "    (movies['revenue'] == 0) | (movies['budget'] == 0),\n",
    "    0,\n",
    "    movies['revenue'] / movies['budget']\n",
    "    )\n",
    "\n",
    "print(movies[['revenue', 'budget', 'return']])"
   ]
  },
  {
   "cell_type": "markdown",
   "metadata": {},
   "source": [
    "### Eliminar las columnas: video, imdb_id, adult, original_title, poster_path y homepage"
   ]
  },
  {
   "cell_type": "markdown",
   "metadata": {},
   "source": [
    "Se elimina ademas las columnas 'overview' y 'tagline' por considerarse poco relevantes"
   ]
  },
  {
   "cell_type": "code",
   "execution_count": 79,
   "metadata": {},
   "outputs": [],
   "source": [
    "movies = movies.drop(columns=['video', 'imdb_id', 'adult', 'original_title', 'poster_path', 'homepage', 'overview', 'tagline'])"
   ]
  },
  {
   "cell_type": "markdown",
   "metadata": {},
   "source": [
    "Se Ordenan las columnas"
   ]
  },
  {
   "cell_type": "code",
   "execution_count": 80,
   "metadata": {},
   "outputs": [
    {
     "data": {
      "text/plain": [
       "Index(['budget', 'id', 'popularity', 'release_date', 'revenue', 'runtime',\n",
       "       'title', 'vote_average', 'vote_count', 'Action', 'Adventure',\n",
       "       'Animation', 'Comedy', 'Crime', 'Documentary', 'Drama', 'Family',\n",
       "       'Fantasy', 'Foreign', 'History', 'Horror', 'Music', 'Mystery',\n",
       "       'Romance', 'Science Fiction', 'TV Movie', 'Thriller', 'War', 'Western',\n",
       "       'African Languages', 'Asian Languages', 'Germanic Languages',\n",
       "       'Other Languages', 'Romance Languages', 'Slavic Languages', 'Africa',\n",
       "       'Antarctica', 'Asia', 'Europe', 'North America', 'Oceania',\n",
       "       'Other Continent', 'South America', 'Canceled', 'In Progress',\n",
       "       'Released', 'release_day', 'release_month', 'release_year', 'return'],\n",
       "      dtype='object')"
      ]
     },
     "execution_count": 80,
     "metadata": {},
     "output_type": "execute_result"
    }
   ],
   "source": [
    "movies.columns"
   ]
  },
  {
   "cell_type": "code",
   "execution_count": 81,
   "metadata": {},
   "outputs": [],
   "source": [
    "orden_columnas = ['id', 'title', 'release_date', 'release_day', 'release_month', 'release_year', 'runtime',\n",
    "       'popularity', 'vote_average', 'vote_count', 'budget', 'revenue', 'return', \n",
    "       'Action', 'Adventure', 'Animation', 'Comedy', 'Crime', 'Documentary', 'Drama', 'Family',\n",
    "       'Fantasy', 'Foreign', 'History', 'Horror', 'Music', 'Mystery',\n",
    "       'Romance', 'Science Fiction', 'TV Movie', 'Thriller', 'War', 'Western',\n",
    "       'African Languages', 'Asian Languages', 'Germanic Languages',\n",
    "       'Other Languages', 'Romance Languages', 'Slavic Languages', 'Africa',\n",
    "       'Antarctica', 'Asia', 'Europe', 'North America', 'Oceania',\n",
    "       'Other Continent', 'South America',\n",
    "       'Released', 'In Progress', 'Canceled']"
   ]
  },
  {
   "cell_type": "code",
   "execution_count": 82,
   "metadata": {},
   "outputs": [
    {
     "data": {
      "text/html": [
       "<div>\n",
       "<style scoped>\n",
       "    .dataframe tbody tr th:only-of-type {\n",
       "        vertical-align: middle;\n",
       "    }\n",
       "\n",
       "    .dataframe tbody tr th {\n",
       "        vertical-align: top;\n",
       "    }\n",
       "\n",
       "    .dataframe thead th {\n",
       "        text-align: right;\n",
       "    }\n",
       "</style>\n",
       "<table border=\"1\" class=\"dataframe\">\n",
       "  <thead>\n",
       "    <tr style=\"text-align: right;\">\n",
       "      <th></th>\n",
       "      <th>id</th>\n",
       "      <th>title</th>\n",
       "      <th>release_date</th>\n",
       "      <th>release_day</th>\n",
       "      <th>release_month</th>\n",
       "      <th>release_year</th>\n",
       "      <th>runtime</th>\n",
       "      <th>popularity</th>\n",
       "      <th>vote_average</th>\n",
       "      <th>vote_count</th>\n",
       "      <th>...</th>\n",
       "      <th>Antarctica</th>\n",
       "      <th>Asia</th>\n",
       "      <th>Europe</th>\n",
       "      <th>North America</th>\n",
       "      <th>Oceania</th>\n",
       "      <th>Other Continent</th>\n",
       "      <th>South America</th>\n",
       "      <th>Released</th>\n",
       "      <th>In Progress</th>\n",
       "      <th>Canceled</th>\n",
       "    </tr>\n",
       "  </thead>\n",
       "  <tbody>\n",
       "    <tr>\n",
       "      <th>0</th>\n",
       "      <td>862</td>\n",
       "      <td>Toy Story</td>\n",
       "      <td>1995-10-30</td>\n",
       "      <td>Lunes</td>\n",
       "      <td>Octubre</td>\n",
       "      <td>1995</td>\n",
       "      <td>81.0</td>\n",
       "      <td>21.946943</td>\n",
       "      <td>7.7</td>\n",
       "      <td>5415.0</td>\n",
       "      <td>...</td>\n",
       "      <td>0</td>\n",
       "      <td>0</td>\n",
       "      <td>0</td>\n",
       "      <td>1</td>\n",
       "      <td>0</td>\n",
       "      <td>0</td>\n",
       "      <td>0</td>\n",
       "      <td>1</td>\n",
       "      <td>0</td>\n",
       "      <td>0</td>\n",
       "    </tr>\n",
       "  </tbody>\n",
       "</table>\n",
       "<p>1 rows × 50 columns</p>\n",
       "</div>"
      ],
      "text/plain": [
       "    id      title release_date release_day release_month  release_year  \\\n",
       "0  862  Toy Story   1995-10-30       Lunes       Octubre          1995   \n",
       "\n",
       "   runtime  popularity  vote_average  vote_count  ...  Antarctica  Asia  \\\n",
       "0     81.0   21.946943           7.7      5415.0  ...           0     0   \n",
       "\n",
       "   Europe  North America  Oceania  Other Continent  South America  Released  \\\n",
       "0       0              1        0                0              0         1   \n",
       "\n",
       "   In Progress  Canceled  \n",
       "0            0         0  \n",
       "\n",
       "[1 rows x 50 columns]"
      ]
     },
     "execution_count": 82,
     "metadata": {},
     "output_type": "execute_result"
    }
   ],
   "source": [
    "movies[orden_columnas].head(1)"
   ]
  },
  {
   "cell_type": "markdown",
   "metadata": {},
   "source": [
    "### Columna title: Se Aplica .title() "
   ]
  },
  {
   "cell_type": "code",
   "execution_count": 83,
   "metadata": {},
   "outputs": [],
   "source": [
    "movies['title'] = movies['title'].str.title()"
   ]
  },
  {
   "cell_type": "markdown",
   "metadata": {},
   "source": [
    "### Columna id: se convierte a tipo int"
   ]
  },
  {
   "cell_type": "code",
   "execution_count": 84,
   "metadata": {},
   "outputs": [],
   "source": [
    "movies['id'] = movies['id'].astype(int)"
   ]
  },
  {
   "cell_type": "markdown",
   "metadata": {},
   "source": [
    "Nota:\n",
    "considerar hacer los siguientes datasets para las funciones:\n",
    "* date: 'movie_id', 'release_year', 'release_month', 'release_day'\n",
    "* movies_details: 'movie_id', 'title', 'budget', 'revenue', 'return'\n",
    "* score: 'movie_id', 'popularity', 'vote_count', 'vote_average'\n",
    "* Mantener dataset movie con las columnas de ML y 'id', 'title', 'release_year', 'runtime'. (eliminar: 'Canceled', 'In Progress', 'Released')"
   ]
  },
  {
   "cell_type": "markdown",
   "metadata": {},
   "source": [
    "### Se dividen los datasets en unos más pequeños para que el funcionamiento de las funciones sea más eficiente"
   ]
  },
  {
   "cell_type": "code",
   "execution_count": 85,
   "metadata": {},
   "outputs": [],
   "source": [
    "movies_ml = movies"
   ]
  },
  {
   "cell_type": "code",
   "execution_count": 86,
   "metadata": {},
   "outputs": [],
   "source": [
    "movies_ml.to_csv(r'C:\\Users\\felip\\Desktop\\Stuff\\Cursos\\SoyHenry\\Clases\\LABS\\PI ML Ops\\pi_mlops_felipeviera\\datasets\\movies_ml.csv', index=False)"
   ]
  },
  {
   "cell_type": "code",
   "execution_count": 87,
   "metadata": {},
   "outputs": [
    {
     "data": {
      "text/html": [
       "<div>\n",
       "<style scoped>\n",
       "    .dataframe tbody tr th:only-of-type {\n",
       "        vertical-align: middle;\n",
       "    }\n",
       "\n",
       "    .dataframe tbody tr th {\n",
       "        vertical-align: top;\n",
       "    }\n",
       "\n",
       "    .dataframe thead th {\n",
       "        text-align: right;\n",
       "    }\n",
       "</style>\n",
       "<table border=\"1\" class=\"dataframe\">\n",
       "  <thead>\n",
       "    <tr style=\"text-align: right;\">\n",
       "      <th></th>\n",
       "      <th>budget</th>\n",
       "      <th>id</th>\n",
       "      <th>popularity</th>\n",
       "      <th>release_date</th>\n",
       "      <th>revenue</th>\n",
       "      <th>runtime</th>\n",
       "      <th>title</th>\n",
       "      <th>vote_average</th>\n",
       "      <th>vote_count</th>\n",
       "      <th>Action</th>\n",
       "      <th>...</th>\n",
       "      <th>Oceania</th>\n",
       "      <th>Other Continent</th>\n",
       "      <th>South America</th>\n",
       "      <th>Canceled</th>\n",
       "      <th>In Progress</th>\n",
       "      <th>Released</th>\n",
       "      <th>release_day</th>\n",
       "      <th>release_month</th>\n",
       "      <th>release_year</th>\n",
       "      <th>return</th>\n",
       "    </tr>\n",
       "  </thead>\n",
       "  <tbody>\n",
       "    <tr>\n",
       "      <th>0</th>\n",
       "      <td>30000000.0</td>\n",
       "      <td>862</td>\n",
       "      <td>21.946943</td>\n",
       "      <td>1995-10-30</td>\n",
       "      <td>373554033.0</td>\n",
       "      <td>81.0</td>\n",
       "      <td>Toy Story</td>\n",
       "      <td>7.7</td>\n",
       "      <td>5415.0</td>\n",
       "      <td>0</td>\n",
       "      <td>...</td>\n",
       "      <td>0</td>\n",
       "      <td>0</td>\n",
       "      <td>0</td>\n",
       "      <td>0</td>\n",
       "      <td>0</td>\n",
       "      <td>1</td>\n",
       "      <td>Lunes</td>\n",
       "      <td>Octubre</td>\n",
       "      <td>1995</td>\n",
       "      <td>12.451801</td>\n",
       "    </tr>\n",
       "    <tr>\n",
       "      <th>1</th>\n",
       "      <td>65000000.0</td>\n",
       "      <td>8844</td>\n",
       "      <td>17.015539</td>\n",
       "      <td>1995-12-15</td>\n",
       "      <td>262797249.0</td>\n",
       "      <td>104.0</td>\n",
       "      <td>Jumanji</td>\n",
       "      <td>6.9</td>\n",
       "      <td>2413.0</td>\n",
       "      <td>0</td>\n",
       "      <td>...</td>\n",
       "      <td>0</td>\n",
       "      <td>0</td>\n",
       "      <td>0</td>\n",
       "      <td>0</td>\n",
       "      <td>0</td>\n",
       "      <td>1</td>\n",
       "      <td>Viernes</td>\n",
       "      <td>Diciembre</td>\n",
       "      <td>1995</td>\n",
       "      <td>4.043035</td>\n",
       "    </tr>\n",
       "  </tbody>\n",
       "</table>\n",
       "<p>2 rows × 50 columns</p>\n",
       "</div>"
      ],
      "text/plain": [
       "       budget    id  popularity release_date      revenue  runtime      title  \\\n",
       "0  30000000.0   862   21.946943   1995-10-30  373554033.0     81.0  Toy Story   \n",
       "1  65000000.0  8844   17.015539   1995-12-15  262797249.0    104.0    Jumanji   \n",
       "\n",
       "   vote_average  vote_count  Action  ...  Oceania  Other Continent  \\\n",
       "0           7.7      5415.0       0  ...        0                0   \n",
       "1           6.9      2413.0       0  ...        0                0   \n",
       "\n",
       "   South America  Canceled  In Progress  Released  release_day  release_month  \\\n",
       "0              0         0            0         1        Lunes        Octubre   \n",
       "1              0         0            0         1      Viernes      Diciembre   \n",
       "\n",
       "   release_year     return  \n",
       "0          1995  12.451801  \n",
       "1          1995   4.043035  \n",
       "\n",
       "[2 rows x 50 columns]"
      ]
     },
     "execution_count": 87,
     "metadata": {},
     "output_type": "execute_result"
    }
   ],
   "source": [
    "movies_ml.head(2)"
   ]
  },
  {
   "cell_type": "code",
   "execution_count": 88,
   "metadata": {},
   "outputs": [
    {
     "data": {
      "text/plain": [
       "Index(['budget', 'id', 'popularity', 'release_date', 'revenue', 'runtime',\n",
       "       'title', 'vote_average', 'vote_count', 'Action', 'Adventure',\n",
       "       'Animation', 'Comedy', 'Crime', 'Documentary', 'Drama', 'Family',\n",
       "       'Fantasy', 'Foreign', 'History', 'Horror', 'Music', 'Mystery',\n",
       "       'Romance', 'Science Fiction', 'TV Movie', 'Thriller', 'War', 'Western',\n",
       "       'African Languages', 'Asian Languages', 'Germanic Languages',\n",
       "       'Other Languages', 'Romance Languages', 'Slavic Languages', 'Africa',\n",
       "       'Antarctica', 'Asia', 'Europe', 'North America', 'Oceania',\n",
       "       'Other Continent', 'South America', 'Canceled', 'In Progress',\n",
       "       'Released', 'release_day', 'release_month', 'release_year', 'return'],\n",
       "      dtype='object')"
      ]
     },
     "execution_count": 88,
     "metadata": {},
     "output_type": "execute_result"
    }
   ],
   "source": [
    "movies_ml.columns"
   ]
  },
  {
   "cell_type": "code",
   "execution_count": 89,
   "metadata": {},
   "outputs": [
    {
     "data": {
      "text/html": [
       "<div>\n",
       "<style scoped>\n",
       "    .dataframe tbody tr th:only-of-type {\n",
       "        vertical-align: middle;\n",
       "    }\n",
       "\n",
       "    .dataframe tbody tr th {\n",
       "        vertical-align: top;\n",
       "    }\n",
       "\n",
       "    .dataframe thead th {\n",
       "        text-align: right;\n",
       "    }\n",
       "</style>\n",
       "<table border=\"1\" class=\"dataframe\">\n",
       "  <thead>\n",
       "    <tr style=\"text-align: right;\">\n",
       "      <th></th>\n",
       "      <th>movie_id</th>\n",
       "      <th>release_year</th>\n",
       "      <th>release_month</th>\n",
       "      <th>release_day</th>\n",
       "    </tr>\n",
       "  </thead>\n",
       "  <tbody>\n",
       "    <tr>\n",
       "      <th>0</th>\n",
       "      <td>862</td>\n",
       "      <td>1995</td>\n",
       "      <td>Octubre</td>\n",
       "      <td>Lunes</td>\n",
       "    </tr>\n",
       "    <tr>\n",
       "      <th>1</th>\n",
       "      <td>8844</td>\n",
       "      <td>1995</td>\n",
       "      <td>Diciembre</td>\n",
       "      <td>Viernes</td>\n",
       "    </tr>\n",
       "    <tr>\n",
       "      <th>2</th>\n",
       "      <td>15602</td>\n",
       "      <td>1995</td>\n",
       "      <td>Diciembre</td>\n",
       "      <td>Viernes</td>\n",
       "    </tr>\n",
       "    <tr>\n",
       "      <th>3</th>\n",
       "      <td>31357</td>\n",
       "      <td>1995</td>\n",
       "      <td>Diciembre</td>\n",
       "      <td>Viernes</td>\n",
       "    </tr>\n",
       "    <tr>\n",
       "      <th>4</th>\n",
       "      <td>11862</td>\n",
       "      <td>1995</td>\n",
       "      <td>Febrero</td>\n",
       "      <td>Viernes</td>\n",
       "    </tr>\n",
       "  </tbody>\n",
       "</table>\n",
       "</div>"
      ],
      "text/plain": [
       "   movie_id  release_year release_month release_day\n",
       "0       862          1995       Octubre       Lunes\n",
       "1      8844          1995     Diciembre     Viernes\n",
       "2     15602          1995     Diciembre     Viernes\n",
       "3     31357          1995     Diciembre     Viernes\n",
       "4     11862          1995       Febrero     Viernes"
      ]
     },
     "execution_count": 89,
     "metadata": {},
     "output_type": "execute_result"
    }
   ],
   "source": [
    "# Exportar a csv nuevos dataset, que serán usados por las funciones\n",
    "\n",
    "date_df = movies_ml[['id', 'release_year', 'release_month', 'release_day']]\n",
    "\n",
    "date_df.rename(columns={'id': 'movie_id'}, inplace=True)\n",
    "\n",
    "date_df.head()"
   ]
  },
  {
   "cell_type": "code",
   "execution_count": 90,
   "metadata": {},
   "outputs": [],
   "source": [
    "date_df.to_csv(r'C:\\Users\\felip\\Desktop\\Stuff\\Cursos\\SoyHenry\\Clases\\LABS\\PI ML Ops\\pi_mlops_felipeviera\\datasets\\movies_date.csv', index=False)"
   ]
  },
  {
   "cell_type": "code",
   "execution_count": 91,
   "metadata": {},
   "outputs": [
    {
     "data": {
      "text/html": [
       "<div>\n",
       "<style scoped>\n",
       "    .dataframe tbody tr th:only-of-type {\n",
       "        vertical-align: middle;\n",
       "    }\n",
       "\n",
       "    .dataframe tbody tr th {\n",
       "        vertical-align: top;\n",
       "    }\n",
       "\n",
       "    .dataframe thead th {\n",
       "        text-align: right;\n",
       "    }\n",
       "</style>\n",
       "<table border=\"1\" class=\"dataframe\">\n",
       "  <thead>\n",
       "    <tr style=\"text-align: right;\">\n",
       "      <th></th>\n",
       "      <th>movie_id</th>\n",
       "      <th>title</th>\n",
       "      <th>budget</th>\n",
       "      <th>revenue</th>\n",
       "      <th>return</th>\n",
       "    </tr>\n",
       "  </thead>\n",
       "  <tbody>\n",
       "    <tr>\n",
       "      <th>0</th>\n",
       "      <td>862</td>\n",
       "      <td>Toy Story</td>\n",
       "      <td>30000000.0</td>\n",
       "      <td>373554033.0</td>\n",
       "      <td>12.451801</td>\n",
       "    </tr>\n",
       "    <tr>\n",
       "      <th>1</th>\n",
       "      <td>8844</td>\n",
       "      <td>Jumanji</td>\n",
       "      <td>65000000.0</td>\n",
       "      <td>262797249.0</td>\n",
       "      <td>4.043035</td>\n",
       "    </tr>\n",
       "    <tr>\n",
       "      <th>2</th>\n",
       "      <td>15602</td>\n",
       "      <td>Grumpier Old Men</td>\n",
       "      <td>0.0</td>\n",
       "      <td>0.0</td>\n",
       "      <td>0.000000</td>\n",
       "    </tr>\n",
       "    <tr>\n",
       "      <th>3</th>\n",
       "      <td>31357</td>\n",
       "      <td>Waiting To Exhale</td>\n",
       "      <td>16000000.0</td>\n",
       "      <td>81452156.0</td>\n",
       "      <td>5.090760</td>\n",
       "    </tr>\n",
       "    <tr>\n",
       "      <th>4</th>\n",
       "      <td>11862</td>\n",
       "      <td>Father Of The Bride Part Ii</td>\n",
       "      <td>0.0</td>\n",
       "      <td>76578911.0</td>\n",
       "      <td>0.000000</td>\n",
       "    </tr>\n",
       "  </tbody>\n",
       "</table>\n",
       "</div>"
      ],
      "text/plain": [
       "   movie_id                        title      budget      revenue     return\n",
       "0       862                    Toy Story  30000000.0  373554033.0  12.451801\n",
       "1      8844                      Jumanji  65000000.0  262797249.0   4.043035\n",
       "2     15602             Grumpier Old Men         0.0          0.0   0.000000\n",
       "3     31357            Waiting To Exhale  16000000.0   81452156.0   5.090760\n",
       "4     11862  Father Of The Bride Part Ii         0.0   76578911.0   0.000000"
      ]
     },
     "execution_count": 91,
     "metadata": {},
     "output_type": "execute_result"
    }
   ],
   "source": [
    "movies_details = movies_ml[['id', 'title', 'budget', 'revenue', 'return']]\n",
    "\n",
    "movies_details.rename(columns={'id': 'movie_id'}, inplace=True)\n",
    "\n",
    "movies_details.head()"
   ]
  },
  {
   "cell_type": "code",
   "execution_count": 92,
   "metadata": {},
   "outputs": [
    {
     "name": "stdout",
     "output_type": "stream",
     "text": [
      "<class 'pandas.core.frame.DataFrame'>\n",
      "Index: 45346 entries, 0 to 45465\n",
      "Data columns (total 5 columns):\n",
      " #   Column    Non-Null Count  Dtype  \n",
      "---  ------    --------------  -----  \n",
      " 0   movie_id  45346 non-null  int32  \n",
      " 1   title     45346 non-null  object \n",
      " 2   budget    45346 non-null  float64\n",
      " 3   revenue   45346 non-null  float64\n",
      " 4   return    45346 non-null  float64\n",
      "dtypes: float64(3), int32(1), object(1)\n",
      "memory usage: 1.9+ MB\n"
     ]
    }
   ],
   "source": [
    "movies_details.info()"
   ]
  },
  {
   "cell_type": "code",
   "execution_count": 93,
   "metadata": {},
   "outputs": [],
   "source": [
    "movies_details.to_csv(r'C:\\Users\\felip\\Desktop\\Stuff\\Cursos\\SoyHenry\\Clases\\LABS\\PI ML Ops\\pi_mlops_felipeviera\\datasets\\movies_details.csv', index=False)"
   ]
  },
  {
   "cell_type": "code",
   "execution_count": 94,
   "metadata": {},
   "outputs": [
    {
     "data": {
      "text/html": [
       "<div>\n",
       "<style scoped>\n",
       "    .dataframe tbody tr th:only-of-type {\n",
       "        vertical-align: middle;\n",
       "    }\n",
       "\n",
       "    .dataframe tbody tr th {\n",
       "        vertical-align: top;\n",
       "    }\n",
       "\n",
       "    .dataframe thead th {\n",
       "        text-align: right;\n",
       "    }\n",
       "</style>\n",
       "<table border=\"1\" class=\"dataframe\">\n",
       "  <thead>\n",
       "    <tr style=\"text-align: right;\">\n",
       "      <th></th>\n",
       "      <th>movie_id</th>\n",
       "      <th>popularity</th>\n",
       "      <th>vote_count</th>\n",
       "      <th>vote_average</th>\n",
       "    </tr>\n",
       "  </thead>\n",
       "  <tbody>\n",
       "    <tr>\n",
       "      <th>0</th>\n",
       "      <td>862</td>\n",
       "      <td>21.946943</td>\n",
       "      <td>5415.0</td>\n",
       "      <td>7.7</td>\n",
       "    </tr>\n",
       "    <tr>\n",
       "      <th>1</th>\n",
       "      <td>8844</td>\n",
       "      <td>17.015539</td>\n",
       "      <td>2413.0</td>\n",
       "      <td>6.9</td>\n",
       "    </tr>\n",
       "    <tr>\n",
       "      <th>2</th>\n",
       "      <td>15602</td>\n",
       "      <td>11.712900</td>\n",
       "      <td>92.0</td>\n",
       "      <td>6.5</td>\n",
       "    </tr>\n",
       "    <tr>\n",
       "      <th>3</th>\n",
       "      <td>31357</td>\n",
       "      <td>3.859495</td>\n",
       "      <td>34.0</td>\n",
       "      <td>6.1</td>\n",
       "    </tr>\n",
       "    <tr>\n",
       "      <th>4</th>\n",
       "      <td>11862</td>\n",
       "      <td>8.387519</td>\n",
       "      <td>173.0</td>\n",
       "      <td>5.7</td>\n",
       "    </tr>\n",
       "  </tbody>\n",
       "</table>\n",
       "</div>"
      ],
      "text/plain": [
       "   movie_id  popularity  vote_count  vote_average\n",
       "0       862   21.946943      5415.0           7.7\n",
       "1      8844   17.015539      2413.0           6.9\n",
       "2     15602   11.712900        92.0           6.5\n",
       "3     31357    3.859495        34.0           6.1\n",
       "4     11862    8.387519       173.0           5.7"
      ]
     },
     "execution_count": 94,
     "metadata": {},
     "output_type": "execute_result"
    }
   ],
   "source": [
    "score_df = movies_ml[['id', 'popularity', 'vote_count', 'vote_average']]\n",
    "\n",
    "score_df.rename(columns={'id':'movie_id'}, inplace=True)\n",
    "\n",
    "score_df.head()"
   ]
  },
  {
   "cell_type": "code",
   "execution_count": 95,
   "metadata": {},
   "outputs": [],
   "source": [
    "score_df.to_csv(r'C:\\Users\\felip\\Desktop\\Stuff\\Cursos\\SoyHenry\\Clases\\LABS\\PI ML Ops\\pi_mlops_felipeviera\\datasets\\movies_score.csv', index=False)"
   ]
  },
  {
   "cell_type": "markdown",
   "metadata": {},
   "source": [
    "Nota: Revisar que columnas se usarán para modelo Machine Learning, eliminar el resto"
   ]
  },
  {
   "cell_type": "markdown",
   "metadata": {},
   "source": [
    "## Nube de Palabras de los títulos de películas"
   ]
  },
  {
   "cell_type": "code",
   "execution_count": 96,
   "metadata": {},
   "outputs": [
    {
     "data": {
      "image/png": "[encoded data removed]",
      "text/plain": [
       "<Figure size 1000x500 with 1 Axes>"
      ]
     },
     "metadata": {},
     "output_type": "display_data"
    }
   ],
   "source": [
    "from wordcloud import WordCloud\n",
    "\n",
    "# Se combina todos los títulos en un solo texto\n",
    "texto_titulos = \" \".join(movies_details['title'])\n",
    "\n",
    "# Se crea la nube de palabras\n",
    "wordCloud = WordCloud(\n",
    "    width=800,\n",
    "    height=400,\n",
    "    background_color='white',\n",
    "    colormap='viridis'\n",
    ").generate(texto_titulos)\n",
    "\n",
    "# Mostrar la nube de palabras\n",
    "plt.figure(figsize=(10, 5))\n",
    "plt.imshow(wordCloud, interpolation='bilinear')\n",
    "plt.axis('off')\n",
    "plt.show()"
   ]
  }
 ],
 "metadata": {
  "kernelspec": {
   "display_name": "Python 3",
   "language": "python",
   "name": "python3"
  },
  "language_info": {
   "codemirror_mode": {
    "name": "ipython",
    "version": 3
   },
   "file_extension": ".py",
   "mimetype": "text/x-python",
   "name": "python",
   "nbconvert_exporter": "python",
   "pygments_lexer": "ipython3",
   "version": "3.11.0"
  }
 },
 "nbformat": 4,
 "nbformat_minor": 2
}

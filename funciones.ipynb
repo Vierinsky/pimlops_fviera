{
 "cells": [
  {
   "cell_type": "markdown",
   "metadata": {},
   "source": [
    "## Funciones"
   ]
  },
  {
   "cell_type": "code",
   "execution_count": 70,
   "metadata": {},
   "outputs": [],
   "source": [
    "import pandas as pd\n",
    "import warnings\n",
    "warnings.filterwarnings(\"ignore\")"
   ]
  },
  {
   "cell_type": "markdown",
   "metadata": {},
   "source": [
    "# CREAR DATASETS ESPECIALES PARA LAS FUNCIONES Y LUEGO HACER LOS ENDPOINTS EN MAIN.PY"
   ]
  },
  {
   "cell_type": "markdown",
   "metadata": {},
   "source": [
    "¡NO OLVIDAR HACER GIT PUSH AL TERMINAR CON LOS CAMBIOS!"
   ]
  },
  {
   "cell_type": "markdown",
   "metadata": {},
   "source": [
    "#### def cantidad_filmaciones_mes( Mes ): \n",
    "Se ingresa un mes en idioma Español. Debe devolver la cantidad de películas que fueron estrenadas en el mes consultado en la totalidad del dataset.\n",
    "* Ejemplo de retorno: X cantidad de películas fueron estrenadas en el mes de X"
   ]
  },
  {
   "cell_type": "code",
   "execution_count": 81,
   "metadata": {},
   "outputs": [],
   "source": [
    "movies_date = pd.read_csv(r'C:\\Users\\felip\\Desktop\\Stuff\\Cursos\\SoyHenry\\Clases\\LABS\\PI ML Ops\\pi_mlops_felipeviera\\datasets\\movies_date.csv')"
   ]
  },
  {
   "cell_type": "code",
   "execution_count": null,
   "metadata": {},
   "outputs": [],
   "source": [
    "# Esta función utiliza las columnas 'release_month'\n",
    "\n",
    "# ¿QUÉ FUNCIÓN DEVUELVA RESULTADOS EN FORMATO JSON?\n",
    "\n",
    "def cantidad_filmaciones_mes(mes_input: str):\n",
    "    try:    \n",
    "        mes_usuario = mes_input.capitalize()\n",
    "        meses_lista = ['Enero','Febrero', 'Marzo', 'Abril', 'Mayo', 'Junio', 'Julio', 'Agosto', 'Septiembre', 'Octubre', 'Noviembre', 'Diciembre']\n",
    "        if mes_usuario in meses_lista:\n",
    "            n_peliculas = movies_date[movies_date['release_month'] == mes_usuario].shape[0]\n",
    "            return print(f'{n_peliculas} fueron estrenadas en el mes de {mes_usuario}')\n",
    "        else:\n",
    "            return print(\"Por favor introduce un mes válido\")\n",
    "    except Exception as e:\n",
    "        return print(f'Ocurrió un error inesperado {str(e)}')\n"
   ]
  },
  {
   "cell_type": "code",
   "execution_count": 83,
   "metadata": {},
   "outputs": [
    {
     "name": "stdout",
     "output_type": "stream",
     "text": [
      "5909 fueron estrenadas en el mes de Enero\n",
      "3028 fueron estrenadas en el mes de Febrero\n",
      "3549 fueron estrenadas en el mes de Marzo\n",
      "3452 fueron estrenadas en el mes de Abril\n",
      "3337 fueron estrenadas en el mes de Mayo\n",
      "3151 fueron estrenadas en el mes de Junio\n",
      "2638 fueron estrenadas en el mes de Julio\n",
      "3393 fueron estrenadas en el mes de Agosto\n",
      "4834 fueron estrenadas en el mes de Septiembre\n",
      "4613 fueron estrenadas en el mes de Octubre\n",
      "3661 fueron estrenadas en el mes de Noviembre\n",
      "3781 fueron estrenadas en el mes de Diciembre\n"
     ]
    }
   ],
   "source": [
    "meses_lista = ['Enero','Febrero', 'Marzo', 'Abril', 'Mayo', 'Junio', 'Julio', 'Agosto', 'Septiembre', 'Octubre', 'Noviembre', 'Diciembre']\n",
    "\n",
    "for mes in meses_lista:\n",
    "    cantidad_filmaciones_mes(mes)"
   ]
  },
  {
   "cell_type": "markdown",
   "metadata": {},
   "source": [
    "#### def cantidad_filmaciones_dia( Dia ): \n",
    "Se ingresa un día en idioma Español. Debe devolver la cantidad de películas que fueron estrenadas en día consultado en la totalidad del dataset.\n",
    "* Ejemplo de retorno: X cantidad de películas fueron estrenadas en los días X"
   ]
  },
  {
   "cell_type": "code",
   "execution_count": 84,
   "metadata": {},
   "outputs": [],
   "source": [
    "movies_date = pd.read_csv(r'C:\\Users\\felip\\Desktop\\Stuff\\Cursos\\SoyHenry\\Clases\\LABS\\PI ML Ops\\pi_mlops_felipeviera\\datasets\\movies_date.csv')"
   ]
  },
  {
   "cell_type": "code",
   "execution_count": 85,
   "metadata": {},
   "outputs": [],
   "source": [
    "# Esta función utiliza las columnas 'release_day' \n",
    "\n",
    "def cantidad_filmaciones_dia(dia_input):\n",
    "    try:    \n",
    "        dia_usuario = dia_input.capitalize()\n",
    "        dias_lista = ['Lunes', 'Martes', 'Miércoles', 'Jueves', 'Viernes', 'Sábado', 'Domingo']\n",
    "        if dia_usuario in dias_lista:\n",
    "            n_peliculas = movies_date[movies_date['release_day'] == dia_usuario].shape[0]\n",
    "            return print(f'{n_peliculas} fueron estrenadas en los días {dia_usuario}')\n",
    "        else:\n",
    "            return \"Por favor introduce un día válido\"\n",
    "    except Exception as e:\n",
    "        return f'Ocurrió un error inesperado {str(e)}'\n"
   ]
  },
  {
   "cell_type": "code",
   "execution_count": 86,
   "metadata": {},
   "outputs": [
    {
     "name": "stdout",
     "output_type": "stream",
     "text": [
      "3500 fueron estrenadas en los días Lunes\n",
      "4640 fueron estrenadas en los días Martes\n",
      "7027 fueron estrenadas en los días Miércoles\n",
      "7520 fueron estrenadas en los días Jueves\n",
      "13902 fueron estrenadas en los días Viernes\n",
      "5149 fueron estrenadas en los días Sábado\n",
      "3608 fueron estrenadas en los días Domingo\n"
     ]
    }
   ],
   "source": [
    "dias_lista = ['Lunes', 'Martes', 'Miércoles', 'Jueves', 'Viernes', 'Sábado', 'Domingo']\n",
    "\n",
    "for dia in dias_lista:\n",
    "    cantidad_filmaciones_dia(dia)"
   ]
  },
  {
   "cell_type": "markdown",
   "metadata": {},
   "source": [
    "#### def score_titulo( titulo_de_la_filmación ): \n",
    "Se ingresa el título de una filmación esperando como respuesta el título, el año de estreno y el score.\n",
    "* Ejemplo de retorno: La película X fue estrenada en el año X con un score/popularidad de X"
   ]
  },
  {
   "cell_type": "code",
   "execution_count": 87,
   "metadata": {},
   "outputs": [
    {
     "data": {
      "text/html": [
       "<div>\n",
       "<style scoped>\n",
       "    .dataframe tbody tr th:only-of-type {\n",
       "        vertical-align: middle;\n",
       "    }\n",
       "\n",
       "    .dataframe tbody tr th {\n",
       "        vertical-align: top;\n",
       "    }\n",
       "\n",
       "    .dataframe thead th {\n",
       "        text-align: right;\n",
       "    }\n",
       "</style>\n",
       "<table border=\"1\" class=\"dataframe\">\n",
       "  <thead>\n",
       "    <tr style=\"text-align: right;\">\n",
       "      <th></th>\n",
       "      <th>movie_id</th>\n",
       "      <th>title</th>\n",
       "      <th>release_year</th>\n",
       "      <th>popularity</th>\n",
       "      <th>vote_count</th>\n",
       "      <th>vote_average</th>\n",
       "    </tr>\n",
       "  </thead>\n",
       "  <tbody>\n",
       "    <tr>\n",
       "      <th>0</th>\n",
       "      <td>862</td>\n",
       "      <td>Toy Story</td>\n",
       "      <td>1995</td>\n",
       "      <td>21.946943</td>\n",
       "      <td>5415.0</td>\n",
       "      <td>7.7</td>\n",
       "    </tr>\n",
       "    <tr>\n",
       "      <th>1</th>\n",
       "      <td>8844</td>\n",
       "      <td>Jumanji</td>\n",
       "      <td>1995</td>\n",
       "      <td>17.015539</td>\n",
       "      <td>2413.0</td>\n",
       "      <td>6.9</td>\n",
       "    </tr>\n",
       "  </tbody>\n",
       "</table>\n",
       "</div>"
      ],
      "text/plain": [
       "   movie_id      title  release_year  popularity  vote_count  vote_average\n",
       "0       862  Toy Story          1995   21.946943      5415.0           7.7\n",
       "1      8844    Jumanji          1995   17.015539      2413.0           6.9"
      ]
     },
     "execution_count": 87,
     "metadata": {},
     "output_type": "execute_result"
    }
   ],
   "source": [
    "# movies_date = pd.read_csv(r'C:\\Users\\felip\\Desktop\\Stuff\\Cursos\\SoyHenry\\Clases\\LABS\\PI ML Ops\\pi_mlops_felipeviera\\datasets\\movies_date.csv')\n",
    "movies_details = pd.read_csv(r'C:\\Users\\felip\\Desktop\\Stuff\\Cursos\\SoyHenry\\Clases\\LABS\\PI ML Ops\\pi_mlops_felipeviera\\datasets\\movies_details.csv')\n",
    "movies_score = pd.read_csv(r'C:\\Users\\felip\\Desktop\\Stuff\\Cursos\\SoyHenry\\Clases\\LABS\\PI ML Ops\\pi_mlops_felipeviera\\datasets\\movies_score.csv')\n",
    "\n",
    "movie_pop_date = pd.merge(\n",
    "    pd.merge(movies_details, movies_date, on='movie_id', how='inner'), \n",
    "    movies_score, on='movie_id', how='inner'\n",
    ")\n",
    "\n",
    "movie_pop_date = movie_pop_date[['movie_id', 'title', 'release_year', 'popularity', 'vote_count', 'vote_average']]\n",
    "\n",
    "movie_pop_date.head(2)"
   ]
  },
  {
   "cell_type": "code",
   "execution_count": 88,
   "metadata": {},
   "outputs": [],
   "source": [
    "# Esta función utiliza las columnas 'title', 'release_year', 'popularity'\n",
    "\n",
    "def score_titulo(titulo_usuario):\n",
    "    try:\n",
    "        # Capitaliza el input del usuario para que no haya problemas de formato con los títulos del DataFrame\n",
    "        titulo = titulo_usuario.title() \n",
    "        \n",
    "        # Filtra el DataFrame en busca de filas que calcen con el título del usuario\n",
    "        respuesta_df = movie_pop_date.loc[movie_pop_date['title'] == titulo, ['title', 'release_year', 'popularity']]\n",
    "\n",
    "        # Chequea si se encontraron filas\n",
    "        if respuesta_df.empty:\n",
    "            return \"No se encontró ninguna película con ese título.\"\n",
    "        \n",
    "        # Se arma la respuesta para todas las filas encontradas\n",
    "        resultados = []\n",
    "        for _, row in respuesta_df.iterrows():\n",
    "            resultados.append(\n",
    "                f\"La película {row['title']} fue estrenada en el año {row['release_year']} \"\n",
    "                f\"con un score/popularidad de {row['popularity']:.2f}.\"\n",
    "            )\n",
    "        return print(\"\\n\".join(resultados))\n",
    "    \n",
    "    except Exception as e:\n",
    "        return f'Ocurrió un error inesperado {str(e)}'\n",
    "    "
   ]
  },
  {
   "cell_type": "code",
   "execution_count": 89,
   "metadata": {},
   "outputs": [
    {
     "name": "stdout",
     "output_type": "stream",
     "text": [
      "La película Sabrina fue estrenada en el año 1995 con un score/popularidad de 6.68.\n",
      "La película Sabrina fue estrenada en el año 1954 con un score/popularidad de 7.36.\n"
     ]
    }
   ],
   "source": [
    "score_titulo('sabrina')"
   ]
  },
  {
   "cell_type": "markdown",
   "metadata": {},
   "source": [
    "#### def votos_titulo( titulo_de_la_filmación ): \n",
    "Se ingresa el título de una filmación esperando como respuesta el título, la cantidad de votos y el valor promedio de las votaciones. La misma variable deberá de contar con al menos 2000 valoraciones, caso contrario, debemos contar con un mensaje avisando que no cumple esta condición y que por ende, no se devuelve ningun valor.\n",
    "* Ejemplo de retorno: La película X fue estrenada en el año X. La misma cuenta con un total de X valoraciones, con un promedio de X"
   ]
  },
  {
   "cell_type": "code",
   "execution_count": 90,
   "metadata": {},
   "outputs": [],
   "source": [
    "# Esta función utiliza las columnas 'title', 'release_year', 'vote_count', 'vote_average'\n",
    "\n",
    "def score_titulo(titulo_usuario):\n",
    "    try:\n",
    "        # Capitaliza el input del usuario para que no haya problemas de formato con los títulos del DataFrame\n",
    "        titulo = titulo_usuario.title() \n",
    "        \n",
    "        # Filtra el DataFrame en busca de filas que calcen con el título del usuario\n",
    "        respuesta_df = movie_pop_date.loc[movie_pop_date['title'] == titulo, ['title', 'release_year', 'vote_count', 'vote_average']]\n",
    "\n",
    "        # Chequea si se encontraron filas\n",
    "        if respuesta_df.empty:\n",
    "            return \"No se encontró ninguna película con ese título.\"\n",
    "        \n",
    "        # Se arma la respuesta para todas las filas encontradas\n",
    "        resultados = []\n",
    "        for _, row in respuesta_df.iterrows(): # \"_\" es usado como placeholder para el index, el cual no necesitaremos\n",
    "            # Revisa que la cantidad de valoraciones sea mayor a 2000 y agrega la respuesta apropiada a la lista vacia resultados\n",
    "            if row['vote_count'] < 2000:\n",
    "                resultados.append(\n",
    "                    f\"La película {row['title']} cuenta con menos de 2000 valoraciones, por lo tanto no se muestran sus valores.\"\n",
    "                )\n",
    "            else:\n",
    "                # Agrega la respuesta apropiada a la lista vacia resultados solo si la película tiene más de 2000 valoraciones\n",
    "                resultados.append(\n",
    "                    f\"La película {row['title']} fue estrenada en el año {row['release_year']}. \"\n",
    "                    f\"La misma cuenta con un total de {row['vote_count']} valoraciones, con un promedio de {row['vote_average']}.\"\n",
    "                )\n",
    "        # Une y retorna las respuestas separandolas por una nueva línea \n",
    "        return print(\"\\n\".join(resultados))\n",
    "    \n",
    "    except Exception as e:\n",
    "        return f'Ocurrió un error inesperado {str(e)}'"
   ]
  },
  {
   "cell_type": "code",
   "execution_count": 91,
   "metadata": {},
   "outputs": [
    {
     "name": "stdout",
     "output_type": "stream",
     "text": [
      "La película Sabrina cuenta con menos de 2000 valoraciones, por lo tanto no se muestran sus valores.\n",
      "La película Sabrina cuenta con menos de 2000 valoraciones, por lo tanto no se muestran sus valores.\n"
     ]
    }
   ],
   "source": [
    "score_titulo('Sabrina')"
   ]
  },
  {
   "cell_type": "code",
   "execution_count": 92,
   "metadata": {},
   "outputs": [
    {
     "name": "stdout",
     "output_type": "stream",
     "text": [
      "La película Pulp Fiction fue estrenada en el año 1994. La misma cuenta con un total de 8670.0 valoraciones, con un promedio de 8.3.\n"
     ]
    }
   ],
   "source": [
    "score_titulo('Pulp Fiction')"
   ]
  },
  {
   "cell_type": "markdown",
   "metadata": {},
   "source": [
    "#### def get_actor( nombre_actor ): \n",
    "Se ingresa el nombre de un actor que se encuentre dentro de un dataset debiendo devolver el éxito del mismo medido a través del retorno. Además, la cantidad de películas que en las que ha participado y el promedio de retorno. La definición no deberá considerar directores.\n",
    "* Ejemplo de retorno: El actor X ha participado de X cantidad de filmaciones, el mismo ha conseguido un retorno de X con un promedio de X por filmación"
   ]
  },
  {
   "cell_type": "code",
   "execution_count": null,
   "metadata": {},
   "outputs": [],
   "source": []
  },
  {
   "cell_type": "markdown",
   "metadata": {},
   "source": [
    "#### def get_director( nombre_director ): \n",
    "Se ingresa el nombre de un director que se encuentre dentro de un dataset debiendo devolver el éxito del mismo medido a través del retorno. Además, deberá devolver el nombre de cada película con la fecha de lanzamiento, retorno individual, costo y ganancia de la misma."
   ]
  },
  {
   "cell_type": "code",
   "execution_count": null,
   "metadata": {},
   "outputs": [],
   "source": []
  }
 ],
 "metadata": {
  "kernelspec": {
   "display_name": "Python 3",
   "language": "python",
   "name": "python3"
  },
  "language_info": {
   "codemirror_mode": {
    "name": "ipython",
    "version": 3
   },
   "file_extension": ".py",
   "mimetype": "text/x-python",
   "name": "python",
   "nbconvert_exporter": "python",
   "pygments_lexer": "ipython3",
   "version": "3.11.0"
  }
 },
 "nbformat": 4,
 "nbformat_minor": 2
}
